{
 "cells": [
  {
   "cell_type": "code",
   "execution_count": 145,
   "metadata": {
    "collapsed": true
   },
   "outputs": [],
   "source": [
    "from selenium import webdriver\n",
    "from selenium.webdriver.common.keys import Keys\n",
    "from bs4 import BeautifulSoup\n",
    "import pandas as pd\n",
    "import numpy as np\n",
    "import time"
   ]
  },
  {
   "cell_type": "code",
   "execution_count": 82,
   "metadata": {
    "collapsed": false
   },
   "outputs": [
    {
     "data": {
      "text/html": [
       "<div>\n",
       "<table border=\"1\" class=\"dataframe\">\n",
       "  <thead>\n",
       "    <tr style=\"text-align: right;\">\n",
       "      <th></th>\n",
       "      <th>RA0</th>\n",
       "      <th>DEC0</th>\n",
       "      <th>name</th>\n",
       "    </tr>\n",
       "  </thead>\n",
       "  <tbody>\n",
       "    <tr>\n",
       "      <th>11</th>\n",
       "      <td>220.381502</td>\n",
       "      <td>60.313514</td>\n",
       "      <td>SDSS011</td>\n",
       "    </tr>\n",
       "    <tr>\n",
       "      <th>19</th>\n",
       "      <td>219.931500</td>\n",
       "      <td>58.466777</td>\n",
       "      <td>SDSS019</td>\n",
       "    </tr>\n",
       "    <tr>\n",
       "      <th>21</th>\n",
       "      <td>228.826569</td>\n",
       "      <td>55.260639</td>\n",
       "      <td>SDSS021</td>\n",
       "    </tr>\n",
       "    <tr>\n",
       "      <th>27</th>\n",
       "      <td>155.765816</td>\n",
       "      <td>50.685294</td>\n",
       "      <td>SDSS027</td>\n",
       "    </tr>\n",
       "    <tr>\n",
       "      <th>28</th>\n",
       "      <td>155.183835</td>\n",
       "      <td>49.345638</td>\n",
       "      <td>SDSS028</td>\n",
       "    </tr>\n",
       "  </tbody>\n",
       "</table>\n",
       "</div>"
      ],
      "text/plain": [
       "           RA0       DEC0     name\n",
       "11  220.381502  60.313514  SDSS011\n",
       "19  219.931500  58.466777  SDSS019\n",
       "21  228.826569  55.260639  SDSS021\n",
       "27  155.765816  50.685294  SDSS027\n",
       "28  155.183835  49.345638  SDSS028"
      ]
     },
     "execution_count": 82,
     "metadata": {},
     "output_type": "execute_result"
    }
   ],
   "source": [
    "dff_sdss=pd.read_csv('/Users/taweewat/Documents/xray_project/ned-result/final_sdss_cut5.csv'\\\n",
    "                     ,index_col=0)\n",
    "df=dff_sdss[['RA0','DEC0','name']]\n",
    "df.head()"
   ]
  },
  {
   "cell_type": "code",
   "execution_count": 94,
   "metadata": {
    "collapsed": false
   },
   "outputs": [
    {
     "data": {
      "text/plain": [
       "507"
      ]
     },
     "execution_count": 94,
     "metadata": {},
     "output_type": "execute_result"
    }
   ],
   "source": [
    "df.index[140]"
   ]
  },
  {
   "cell_type": "markdown",
   "metadata": {},
   "source": [
    "driver = webdriver.Firefox()\n",
    "driver.get(\"http://www.python.org\")\n",
    "assert \"Python\" in driver.title\n",
    "elem = driver.find_element_by_name(\"q\")\n",
    "elem.clear()\n",
    "elem.send_keys(\"pycon\")\n",
    "elem.send_keys(Keys.RETURN)\n",
    "assert \"No results found.\" not in driver.page_source\n",
    "driver.close()"
   ]
  },
  {
   "cell_type": "code",
   "execution_count": 146,
   "metadata": {
    "collapsed": true
   },
   "outputs": [],
   "source": [
    "driver = webdriver.Firefox()\n",
    "driver.get(\"http://cda.harvard.edu/chaser/\")\n",
    "assert \"Chandra\" in driver.title"
   ]
  },
  {
   "cell_type": "code",
   "execution_count": 152,
   "metadata": {
    "collapsed": false
   },
   "outputs": [
    {
     "name": "stdout",
     "output_type": "stream",
     "text": [
      "waiting...0/247\n",
      "done waiting\n",
      "getting the data\n"
     ]
    }
   ],
   "source": [
    "All_d=dict()\n",
    "\n",
    "for ind,n in enumerate(df.index[1:2]):\n",
    "    driver = webdriver.Firefox()\n",
    "    driver.get(\"http://cda.harvard.edu/chaser/\")\n",
    "    assert \"Chandra\" in driver.title\n",
    "\n",
    "    n=140\n",
    "\n",
    "    lon = driver.find_element_by_name(\"lon\")\n",
    "    lon.clear()\n",
    "    lon.send_keys(str(df[\"RA0\"][df.index[n]]))\n",
    "\n",
    "    lat = driver.find_element_by_name(\"lat\")\n",
    "    lat.clear()\n",
    "    lat.send_keys(str(df[\"DEC0\"][df.index[n]]))\n",
    "\n",
    "    radius = driver.find_element_by_name(\"radius\")\n",
    "    radius.clear()\n",
    "    radius.send_keys(\"20\")\n",
    "    radius.send_keys(Keys.RETURN)\n",
    "\n",
    "    print 'waiting...%i/%i' % (ind,len(df.index))\n",
    "    time.sleep(10)\n",
    "    print 'done waiting'\n",
    "    # assert \"No results found.\" not in driver.page_source\n",
    "    soup = BeautifulSoup(driver.page_source)\n",
    "    letter = soup.find_all(\"table\", id=\"searchResultsTable\")\n",
    "\n",
    "    d=dict()\n",
    "    d['name']=df[\"name\"][df.index[n]]\n",
    "\n",
    "    def get_list(str_name):\n",
    "        names=[]\n",
    "        for i in letter[0].find_all(title=str_name):\n",
    "            names.append(i.get_text())\n",
    "        return names\n",
    "\n",
    "    try:\n",
    "        get_list('Target Name')\n",
    "        print 'getting the data'\n",
    "        heads=['Target Name','PI Name',\"RA\",\"Dec\",\"Exposure \"]\n",
    "        for h in heads:\n",
    "            d[h]=get_list(h)\n",
    "        d['Total Exposure']=np.sum(map(float,get_list(\"Exposure \")))\n",
    "        print 'done'\n",
    "    except:\n",
    "        print 'There is no Chandra data here'\n",
    "        d['Total Exposure']=0\n",
    "\n",
    "    driver.quit()\n",
    "    All_d[n]=d"
   ]
  },
  {
   "cell_type": "code",
   "execution_count": 151,
   "metadata": {
    "collapsed": false,
    "scrolled": false
   },
   "outputs": [
    {
     "data": {
      "text/plain": [
       "{'Dec': [u'+39 52 57.80',\n",
       "  u'+39 57 10.20',\n",
       "  u'+40 11 36.45',\n",
       "  u'+39 58 23.06',\n",
       "  u'+39 42 40.47',\n",
       "  u'+39 56 02.88',\n",
       "  u'+39 47 19.00'],\n",
       " 'Exposure ': [u'5.98', u'26.84', u'5.01', u'4.71', u'4.71', u'5.02', u'5.09'],\n",
       " 'PI Name': [u'Risaliti',\n",
       "  u'Murray',\n",
       "  u'Miller',\n",
       "  u'Miller',\n",
       "  u'Miller',\n",
       "  u'Miller',\n",
       "  u'Garmire'],\n",
       " 'RA': [u'10 39 34.10',\n",
       "  u'10 40 44.40',\n",
       "  u'10 40 37.53',\n",
       "  u'10 41 59.33',\n",
       "  u'10 40 51.11',\n",
       "  u'10 39 29.40',\n",
       "  u'10 39 30.40'],\n",
       " 'Target Name': [u'HS 1036+4008',\n",
       "  u'ABELL 1068',\n",
       "  u'A1068',\n",
       "  u'A1068',\n",
       "  u'A1068',\n",
       "  u'A1068',\n",
       "  u'SDSS J1039+3947'],\n",
       " 'Total Exposure': 57.359999999999999,\n",
       " 'name': 'SDSS507'}"
      ]
     },
     "execution_count": 151,
     "metadata": {},
     "output_type": "execute_result"
    }
   ],
   "source": [
    "d"
   ]
  },
  {
   "cell_type": "code",
   "execution_count": 138,
   "metadata": {
    "collapsed": false,
    "scrolled": false
   },
   "outputs": [],
   "source": []
  },
  {
   "cell_type": "code",
   "execution_count": 137,
   "metadata": {
    "collapsed": false
   },
   "outputs": [
    {
     "data": {
      "text/plain": [
       "57.359999999999999"
      ]
     },
     "execution_count": 137,
     "metadata": {},
     "output_type": "execute_result"
    }
   ],
   "source": [
    "np.sum(map(float,get_list(\"Exposure \")))"
   ]
  },
  {
   "cell_type": "code",
   "execution_count": 114,
   "metadata": {
    "collapsed": true
   },
   "outputs": [],
   "source": []
  },
  {
   "cell_type": "code",
   "execution_count": 123,
   "metadata": {
    "collapsed": false
   },
   "outputs": [
    {
     "data": {
      "text/plain": [
       "[<td style=\"text-align:left;\" title=\"PI Name\">Risaliti</td>,\n",
       " <td style=\"text-align:left;\" title=\"PI Name\">Murray</td>,\n",
       " <td style=\"text-align:left;\" title=\"PI Name\">Miller</td>,\n",
       " <td style=\"text-align:left;\" title=\"PI Name\">Miller</td>,\n",
       " <td style=\"text-align:left;\" title=\"PI Name\">Miller</td>,\n",
       " <td style=\"text-align:left;\" title=\"PI Name\">Miller</td>,\n",
       " <td style=\"text-align:left;\" title=\"PI Name\">Garmire</td>]"
      ]
     },
     "execution_count": 123,
     "metadata": {},
     "output_type": "execute_result"
    }
   ],
   "source": [
    "letter[0].find_all(title=\"PI Name\")"
   ]
  },
  {
   "cell_type": "code",
   "execution_count": 139,
   "metadata": {
    "collapsed": false
   },
   "outputs": [
    {
     "data": {
      "text/plain": [
       "{'Dec': [u'+39 52 57.80',\n",
       "  u'+39 57 10.20',\n",
       "  u'+40 11 36.45',\n",
       "  u'+39 58 23.06',\n",
       "  u'+39 42 40.47',\n",
       "  u'+39 56 02.88',\n",
       "  u'+39 47 19.00'],\n",
       " 'Exposure ': [u'5.98', u'26.84', u'5.01', u'4.71', u'4.71', u'5.02', u'5.09'],\n",
       " 'PI Name': [u'Risaliti',\n",
       "  u'Murray',\n",
       "  u'Miller',\n",
       "  u'Miller',\n",
       "  u'Miller',\n",
       "  u'Miller',\n",
       "  u'Garmire'],\n",
       " 'RA': [u'10 39 34.10',\n",
       "  u'10 40 44.40',\n",
       "  u'10 40 37.53',\n",
       "  u'10 41 59.33',\n",
       "  u'10 40 51.11',\n",
       "  u'10 39 29.40',\n",
       "  u'10 39 30.40'],\n",
       " 'Target Name': [u'HS 1036+4008',\n",
       "  u'ABELL 1068',\n",
       "  u'A1068',\n",
       "  u'A1068',\n",
       "  u'A1068',\n",
       "  u'A1068',\n",
       "  u'SDSS J1039+3947'],\n",
       " 'Total Exposure': 57.359999999999999,\n",
       " 'name': 'SDSS507'}"
      ]
     },
     "execution_count": 139,
     "metadata": {},
     "output_type": "execute_result"
    }
   ],
   "source": [
    "d"
   ]
  },
  {
   "cell_type": "code",
   "execution_count": null,
   "metadata": {
    "collapsed": true
   },
   "outputs": [],
   "source": []
  }
 ],
 "metadata": {
  "anaconda-cloud": {},
  "kernelspec": {
   "display_name": "Python [conda root]",
   "language": "python",
   "name": "conda-root-py"
  },
  "language_info": {
   "codemirror_mode": {
    "name": "ipython",
    "version": 2
   },
   "file_extension": ".py",
   "mimetype": "text/x-python",
   "name": "python",
   "nbconvert_exporter": "python",
   "pygments_lexer": "ipython2",
   "version": "2.7.13"
  }
 },
 "nbformat": 4,
 "nbformat_minor": 2
}
