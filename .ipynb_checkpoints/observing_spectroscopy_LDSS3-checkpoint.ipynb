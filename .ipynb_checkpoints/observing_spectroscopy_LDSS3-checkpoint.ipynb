{
 "cells": [
  {
   "cell_type": "code",
   "execution_count": 1,
   "metadata": {},
   "outputs": [],
   "source": [
    "import matplotlib.pyplot as plt\n",
    "import numpy as np\n",
    "import pandas as pd\n",
    "from astropy import units as u\n",
    "from astropy.time import Time, TimezoneInfo\n",
    "from datetime import datetime\n",
    "from astropy.coordinates import SkyCoord, EarthLocation, AltAz, get_sun, Angle\n",
    "%matplotlib inline"
   ]
  },
  {
   "cell_type": "code",
   "execution_count": 8,
   "metadata": {},
   "outputs": [],
   "source": [
    "names=['Field094_A','Field094_B','Field159_A','Field159_B',\\\n",
    "       'CHIPS1011-0505_A','CHIPS1011-0505_B','CHIPS0005-2758_A','CHIPS0005-2758_B','LTT2615','Field159_C','CHIPS1009-3015_A']\n",
    "positions=[('21:55:18.3943', '-37:27:33.264', 126),('21:55:17.5829', '-37:27:07.628', 134),\\\n",
    "           ('2:36:53.2718', '-61:36:15.375', 63),('02:36:54.6889', '-61:36:20.443', 93.5),\\\n",
    "           ('10:11:28.0254', '-05:05:46.411', 116),('10:11:28.8258', '-05:05:45.994', 111),\\\n",
    "           ('00:05:58.5494', '-27:58:57.768', 67),('00:05:58.5494', '-27:58:53.641', 91),('05:56:24.30','-27:51:28.8',0),\\\n",
    "          ('02:36:53.3479','-61:36:16.678',58),(\"10:09:27.2772\",\"-30:15:34.735\",134)]"
   ]
  },
  {
   "cell_type": "markdown",
   "metadata": {},
   "source": [
    "- Field#1: reference number (can use alphanumeric characters or a decimal number)  \n",
    "<span style=\"color:red\">0,1,2,3</span>\n",
    "- Field#2: object name (can use alphanumeric characters, plus, minus, period, and underscore, but no whitespace)  \n",
    "<span style=\"color:blue\">names</span>\n",
    "- Field#3: RA given in hh:mm:ss.s or in decimal hours  \n",
    "<span style=\"color:blue\">positions[0]</span>\n",
    "- Field#4: Dec given in ±dd:mm:ss or in decimal degrees  \n",
    "<span style=\"color:blue\">positions[1]</span>\n",
    "- Field#5: equinox given in yyyy.y  \n",
    "<span style=\"color:red\">2000.0</span>\n",
    "- Field#6: proper motion in RA given in seconds of time per year (s.ss)  \n",
    "<span style=\"color:red\">0</span>\n",
    "- Field#7: proper motion in Dec given in arcseconds per year (s.ss)  \n",
    "<span style=\"color:red\">0</span>\n",
    "\n",
    "The next two fields are instrument dependent and need to be specified correctly. This is the responsibility of the observer, not the Telescope Operator. Please read below for details of the various rotator modes available with the various instruments.\n",
    "- Field#8: instrument rotator offset angle given in degrees (dd.d)  \n",
    "<span style=\"color:blue\">EQU = positions[2]+27.5-90</span> (http://www.lco.cl/telescopes-information/magellan/instruments/observing-catalogs/observing-catalogs-format)\n",
    "- Field#9: instrument rotator offset mode  \n",
    "<span style=\"color:red\">EQU</span>\n",
    "\n",
    "The next 6 required fields are to specify positions of the guide probes. If you have not preselected guide stars, please use zero values for these fields.\n",
    "- Field#10: RA of guide probe#1 given in hh:mm:ss.s or decimal hours  \n",
    "<span style=\"color:red\">00:00:00.0</span>\n",
    "- Field#11: Dec of guide probe#1 given in ±dd:mm:ss or decimal degrees  \n",
    "<span style=\"color:red\">00:00:00.0</span>\n",
    "- Field#12: equinox of guide probe#1 positions given in yyyy.y  \n",
    "<span style=\"color:red\">2000.0</span>\n",
    "- Field#13: RA of guide probe#2 given in hh:mm:ss.s or decimal hours  \n",
    "<span style=\"color:red\">00:00:00.0</span>\n",
    "- Field#14: Dec of guide probe#2 given in ±dd:mm:ss or decimal degrees  \n",
    "<span style=\"color:red\">00:00:00.0</span>\n",
    "- Field#15: equinox of guide probe#2 positions given in yyyy.y  \n",
    "<span style=\"color:red\">2000.0</span>\n",
    "\n",
    "The final field is the reference date used to calculate the proper motion correction for the object for the current date if the proper motion in field 6 or 7 is non-zero. If it is not specified, the equinox (field 4) will be used as the reference date to calculate the proper motion correction, which is probably not what you want.\n",
    "- Field#16: epoch of proper motion observations given in yyyy.y  \n",
    "<span style=\"color:red\">2000.0</span>"
   ]
  },
  {
   "cell_type": "code",
   "execution_count": 9,
   "metadata": {},
   "outputs": [],
   "source": [
    "dir=\"/Users/taweewat/Dropbox/Documents/MIT/Observation/2018_1/\"\n",
    "text_file = open(dir+\"chips_LDSS3_3.cat\", \"w\")\n",
    "text_file.write(\"#\\t Name\\t RA\\t Dec\\t equinox\\t Rapm\\t Decpm\\t offset\\t rot\\t RA_probe1\\t Dec_probe1\\t equinox\\t RA_probe2\\t Dec_probe2\\t equinox\\t pm_epoch\\n\")\n",
    "text_file.write(\"##\\t name\\t hh:mm:ss.s\\t dd:mm:ss\\t yyyy.y\\t s.ss\\t s.ss\\t angle\\t mode\\t hh:mm:ss.s\\t dd:mm:ss\\t yyyy.y\\t hh:mm:ss.ss\\t dd:mm:ss\\t yyyy.y\\t yyyy.y\\n\")\n",
    "text_file.write(\"#\\n\")\n",
    "for i, item in enumerate(names):\n",
    "    text_file.write(\"%03i\\t %s\\t %s\\t %s\\t 2000.0\\t 0.00\\t 0.00\\t %.2f\\t EQU\\t 00:00:00.0\\t +00:00:00\\t 2000.0\\t 00:00:00.0\\t +00:00:00\\t 2000.0\\t \\n\" \\\n",
    "                    % (i, item, positions[i][0], positions[i][1], positions[i][2]+27.5-90))\n",
    "text_file.close()"
   ]
  },
  {
   "cell_type": "code",
   "execution_count": null,
   "metadata": {},
   "outputs": [],
   "source": []
  }
 ],
 "metadata": {
  "kernelspec": {
   "display_name": "Python 2",
   "language": "python",
   "name": "python2"
  },
  "language_info": {
   "codemirror_mode": {
    "name": "ipython",
    "version": 2
   },
   "file_extension": ".py",
   "mimetype": "text/x-python",
   "name": "python",
   "nbconvert_exporter": "python",
   "pygments_lexer": "ipython2",
   "version": "2.7.16"
  }
 },
 "nbformat": 4,
 "nbformat_minor": 2
}
