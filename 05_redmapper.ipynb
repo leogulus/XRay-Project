{
 "cells": [
  {
   "cell_type": "code",
   "execution_count": 105,
   "metadata": {
    "collapsed": true
   },
   "outputs": [],
   "source": [
    "import pandas as pd\n",
    "import numpy as np\n",
    "\n",
    "import matplotlib\n",
    "import matplotlib.pyplot as plt\n",
    "import matplotlib.cm as cm\n",
    "from matplotlib import image\n",
    "import os\n",
    "\n",
    "from astropy.io import fits\n",
    "from astropy.table import Table, Column\n",
    "from astropy.coordinates import Angle, SkyCoord\n",
    "from astropy.visualization import hist\n",
    "from astropy import units as u\n",
    "\n",
    "import subprocess\n",
    "import cosmics\n",
    "import shlex\n",
    "\n",
    "from IPython import display\n",
    "import time\n",
    "\n",
    "from scipy.optimize import curve_fit\n",
    "\n",
    "%matplotlib inline"
   ]
  },
  {
   "cell_type": "code",
   "execution_count": 25,
   "metadata": {
    "collapsed": true
   },
   "outputs": [],
   "source": [
    "cluster=Table.read('/Users/taweewat/Downloads/redmapper_dr8_public_v6.3_catalog.fits')\n",
    "member=Table.read('/Users/taweewat/Downloads/redmapper_dr8_public_v6.3_members.fits')\n",
    "mask=Table.read('/Users/taweewat/Downloads/redmapper_dr8_public_v6.3_zmask.fits')\n"
   ]
  },
  {
   "cell_type": "code",
   "execution_count": 65,
   "metadata": {
    "collapsed": true
   },
   "outputs": [],
   "source": [
    "dff=pd.read_csv('/Users/taweewat/Documents/xray_project/ned-result/final_cut5.csv')\n",
    "dff=dff[dff['followup']=='followed']"
   ]
  },
  {
   "cell_type": "code",
   "execution_count": 88,
   "metadata": {
    "collapsed": true
   },
   "outputs": [],
   "source": [
    "dff=pd.read_csv('/Users/taweewat/Documents/xray_project/ned-result/final_sdss_cut5.csv')\n",
    "dff=dff[dff['followup']=='followed']"
   ]
  },
  {
   "cell_type": "code",
   "execution_count": 30,
   "metadata": {
    "scrolled": true
   },
   "outputs": [
    {
     "data": {
      "text/plain": [
       "['ID',\n",
       " 'NAME',\n",
       " 'RA',\n",
       " 'DEC',\n",
       " 'Z_LAMBDA',\n",
       " 'Z_LAMBDA_ERR',\n",
       " 'LAMBDA',\n",
       " 'LAMBDA_ERR',\n",
       " 'S',\n",
       " 'Z_SPEC',\n",
       " 'OBJID',\n",
       " 'IMAG',\n",
       " 'IMAG_ERR',\n",
       " 'MODEL_MAG_U',\n",
       " 'MODEL_MAGERR_U',\n",
       " 'MODEL_MAG_G',\n",
       " 'MODEL_MAGERR_G',\n",
       " 'MODEL_MAG_R',\n",
       " 'MODEL_MAGERR_R',\n",
       " 'MODEL_MAG_I',\n",
       " 'MODEL_MAGERR_I',\n",
       " 'MODEL_MAG_Z',\n",
       " 'MODEL_MAGERR_Z',\n",
       " 'ILUM',\n",
       " 'P_CEN',\n",
       " 'RA_CEN',\n",
       " 'DEC_CEN',\n",
       " 'ID_CEN',\n",
       " 'PZBINS',\n",
       " 'PZ']"
      ]
     },
     "execution_count": 30,
     "metadata": {},
     "output_type": "execute_result"
    }
   ],
   "source": [
    "cluster.colnames"
   ]
  },
  {
   "cell_type": "code",
   "execution_count": 89,
   "metadata": {
    "collapsed": true
   },
   "outputs": [],
   "source": [
    "c = SkyCoord(ra=dff['RA'].values*u.degree, dec=dff['DEC'].values*u.degree)  \n",
    "catalog = SkyCoord(ra=cluster['RA']*u.degree, dec=cluster['DEC']*u.degree)  \n",
    "idx, d2d, d3d = c.match_to_catalog_sky(catalog)  "
   ]
  },
  {
   "cell_type": "code",
   "execution_count": 90,
   "metadata": {},
   "outputs": [
    {
     "data": {
      "text/plain": [
       "(array([ 6.,  5.,  5.,  5.,  3.,  5.,  6.,  5.,  9.]),\n",
       " array([0, 1, 2, 3, 4, 5, 6, 7, 8, 9]),\n",
       " <a list of 9 Patch objects>)"
      ]
     },
     "execution_count": 90,
     "metadata": {},
     "output_type": "execute_result"
    },
    {
     "data": {
      "image/png": "[encoded data removed]",
      "text/plain": [
       "<matplotlib.figure.Figure at 0x118d51d10>"
      ]
     },
     "metadata": {},
     "output_type": "display_data"
    }
   ],
   "source": [
    "plt.hist(np.array([i.value for i in d2d.to(u.arcmin)]),bins=np.arange(0,10,1))"
   ]
  },
  {
   "cell_type": "code",
   "execution_count": 107,
   "metadata": {
    "collapsed": true,
    "scrolled": false
   },
   "outputs": [],
   "source": [
    "dffs=dff[np.array([i.value for i in d2d.to(u.arcmin)])<3]"
   ]
  },
  {
   "cell_type": "code",
   "execution_count": 108,
   "metadata": {
    "collapsed": true,
    "scrolled": false
   },
   "outputs": [],
   "source": [
    "knowns=cluster[idx[np.array([i.value for i in d2d.to(u.arcmin)])<3]]\n",
    "aa=Column(dffs['name'].values, name='name')\n",
    "knowns.add_column(aa, index=0)"
   ]
  },
  {
   "cell_type": "code",
   "execution_count": 109,
   "metadata": {},
   "outputs": [
    {
     "data": {
      "text/html": [
       "&lt;Table length=16&gt;\n",
       "<table id=\"table4907999376\" class=\"table-striped table-bordered table-condensed\">\n",
       "<thead><tr><th>name</th><th>ID</th><th>NAME</th><th>RA</th><th>DEC</th><th>Z_LAMBDA</th><th>Z_LAMBDA_ERR</th><th>LAMBDA</th><th>LAMBDA_ERR</th><th>S</th><th>Z_SPEC</th><th>OBJID</th><th>IMAG</th><th>IMAG_ERR</th><th>MODEL_MAG_U</th><th>MODEL_MAGERR_U</th><th>MODEL_MAG_G</th><th>MODEL_MAGERR_G</th><th>MODEL_MAG_R</th><th>MODEL_MAGERR_R</th><th>MODEL_MAG_I</th><th>MODEL_MAGERR_I</th><th>MODEL_MAG_Z</th><th>MODEL_MAGERR_Z</th><th>ILUM</th><th>P_CEN [5]</th><th>RA_CEN [5]</th><th>DEC_CEN [5]</th><th>ID_CEN [5]</th><th>PZBINS [21]</th><th>PZ [21]</th></tr></thead>\n",
       "<thead><tr><th>object</th><th>int32</th><th>str20</th><th>float64</th><th>float64</th><th>float32</th><th>float32</th><th>float32</th><th>float32</th><th>float32</th><th>float32</th><th>int64</th><th>float32</th><th>float32</th><th>float32</th><th>float32</th><th>float32</th><th>float32</th><th>float32</th><th>float32</th><th>float32</th><th>float32</th><th>float32</th><th>float32</th><th>float32</th><th>float32</th><th>float32</th><th>float32</th><th>int64</th><th>float32</th><th>float32</th></tr></thead>\n",
       "<tr><td>SDSS069</td><td>12226</td><td>RMJ101429.4+310412.8</td><td>153.622613328</td><td>31.0702334418</td><td>0.273839</td><td>0.0113191</td><td>26.197</td><td>2.58835</td><td>1.01266</td><td>0.252419</td><td>1237665128532345091</td><td>0.0</td><td>0.0</td><td>25.5676</td><td>2.75921</td><td>19.6174</td><td>0.0324459</td><td>18.037</td><td>0.0145956</td><td>17.5021</td><td>0.0137683</td><td>17.3082</td><td>0.0461662</td><td>18.7116</td><td>0.921864 .. 1.30701e-05</td><td>153.623 .. 153.617</td><td>31.0702 .. 31.0444</td><td>32054432 .. 32054526</td><td>0.198039 .. 0.349639</td><td>1.9704e-13 .. 4.25127e-06</td></tr>\n",
       "<tr><td>SDSS096</td><td>696</td><td>RMJ012141.4+200538.5</td><td>20.4224602711</td><td>20.094018337</td><td>0.194316</td><td>0.00501264</td><td>57.0273</td><td>3.02073</td><td>1.00013</td><td>0.182949</td><td>1237679461362958457</td><td>0.0</td><td>0.0</td><td>19.7296</td><td>0.109633</td><td>17.7363</td><td>0.00959367</td><td>16.4316</td><td>0.00489483</td><td>15.9318</td><td>0.00447137</td><td>15.5881</td><td>0.00807262</td><td>44.1826</td><td>0.994039 .. 1.51453e-06</td><td>20.4225 .. 20.4208</td><td>20.094 .. 20.0856</td><td>53950860 .. 53950895</td><td>0.163331 .. 0.225302</td><td>3.61536e-08 .. 8.92914e-06</td></tr>\n",
       "<tr><td>SDSS116</td><td>1108</td><td>RMJ233023.0+203736.8</td><td>352.595684233</td><td>20.6268783268</td><td>0.165667</td><td>0.00414681</td><td>51.5355</td><td>3.08006</td><td>1.01082</td><td>-1.0</td><td>1237680247885136064</td><td>0.0</td><td>0.0</td><td>20.2385</td><td>0.352611</td><td>17.9852</td><td>0.0138379</td><td>16.7538</td><td>0.0083309</td><td>16.2734</td><td>0.00790906</td><td>15.9267</td><td>0.0188315</td><td>36.964</td><td>0.568329 .. 9.83513e-07</td><td>352.596 .. 352.708</td><td>20.6269 .. 20.6724</td><td>56202148 .. 56202161</td><td>0.141623 .. 0.18971</td><td>4.156e-06 .. 1.16143e-05</td></tr>\n",
       "<tr><td>SDSS472</td><td>18584</td><td>RMJ090625.9+164628.7</td><td>136.608046026</td><td>16.7746375882</td><td>0.305893</td><td>0.0149631</td><td>21.7731</td><td>2.53785</td><td>0.994095</td><td>0.281724</td><td>1237667537464656253</td><td>0.0</td><td>0.0</td><td>22.9323</td><td>0.713665</td><td>20.634</td><td>0.0422434</td><td>18.9939</td><td>0.0158393</td><td>18.3587</td><td>0.0131255</td><td>17.9343</td><td>0.0314203</td><td>14.6514</td><td>0.8319 .. 0.00183201</td><td>136.608 .. 136.616</td><td>16.7746 .. 16.7763</td><td>38948816 .. 38948927</td><td>0.185062 .. 0.426724</td><td>6.84128e-24 .. 3.17597e-06</td></tr>\n",
       "<tr><td>SDSS476</td><td>7903</td><td>RMJ091339.7+405653.9</td><td>138.415493345</td><td>40.9483076041</td><td>0.445715</td><td>0.0115883</td><td>55.8527</td><td>6.05421</td><td>1.3082</td><td>-1.0</td><td>1237657628440920725</td><td>0.0</td><td>0.0</td><td>24.1407</td><td>1.50673</td><td>21.7316</td><td>0.0953376</td><td>19.9299</td><td>0.031209</td><td>19.1833</td><td>0.023488</td><td>18.7374</td><td>0.0519191</td><td>33.5883</td><td>0.428026 .. 0.0101205</td><td>138.415 .. 138.401</td><td>40.9483 .. 40.9411</td><td>11259740 .. 11259716</td><td>0.378675 .. 0.512755</td><td>7.08238e-06 .. 3.72351e-06</td></tr>\n",
       "<tr><td>SDSS501</td><td>667</td><td>RMJ102340.7+041115.1</td><td>155.919480706</td><td>4.1875151655</td><td>0.291733</td><td>0.0110694</td><td>73.5332</td><td>3.96297</td><td>0.996543</td><td>-1.0</td><td>1237654605323894994</td><td>0.0</td><td>0.0</td><td>23.5456</td><td>1.12008</td><td>20.7009</td><td>0.0479766</td><td>19.1188</td><td>0.0182602</td><td>18.5648</td><td>0.0149105</td><td>18.2085</td><td>0.0360947</td><td>41.4641</td><td>0.699742 .. 0.000840236</td><td>155.919 .. 155.894</td><td>4.18752 .. 4.19409</td><td>6338822 .. 6338976</td><td>0.22293 .. 0.360537</td><td>2.17844e-09 .. 4.34307e-06</td></tr>\n",
       "<tr><td>SDSS507</td><td>1628</td><td>RMJ104045.4+395448.6</td><td>160.188960873</td><td>39.9134876199</td><td>0.143084</td><td>0.00420347</td><td>42.8402</td><td>2.58569</td><td>0.999808</td><td>0.13406</td><td>1237661383314702575</td><td>0.0</td><td>0.0</td><td>19.8934</td><td>0.0754875</td><td>17.9548</td><td>0.00783528</td><td>16.8857</td><td>0.00516167</td><td>16.443</td><td>0.00472252</td><td>16.0913</td><td>0.0106487</td><td>21.8957</td><td>0.793031 .. 7.4512e-05</td><td>160.189 .. 160.113</td><td>39.9135 .. 39.9933</td><td>18825022 .. 22581155</td><td>0.119574 .. 0.166594</td><td>2.87964e-05 .. 1.0316e-05</td></tr>\n",
       "<tr><td>SDSS517</td><td>40821</td><td>RMJ105701.8+051547.6</td><td>164.257682856</td><td>5.26323310461</td><td>0.321441</td><td>0.0159302</td><td>20.3696</td><td>2.53333</td><td>0.997346</td><td>-1.0</td><td>1237654602106470666</td><td>0.0</td><td>0.0</td><td>21.8034</td><td>0.233326</td><td>20.2536</td><td>0.0316695</td><td>18.7157</td><td>0.0120643</td><td>18.1889</td><td>0.0113772</td><td>17.8992</td><td>0.0241449</td><td>13.467</td><td>0.962834 .. 4.89018e-05</td><td>164.258 .. 164.25</td><td>5.26323 .. 5.2719</td><td>6123388 .. 6123505</td><td>0.227147 .. 0.415735</td><td>1.98081e-09 .. 3.12474e-06</td></tr>\n",
       "<tr><td>SDSS522</td><td>38088</td><td>RMJ110715.0+162934.3</td><td>166.812360887</td><td>16.4928483728</td><td>0.399493</td><td>0.0178181</td><td>28.3937</td><td>3.97257</td><td>1.13857</td><td>-1.0</td><td>1237668585432023336</td><td>0.0</td><td>0.0</td><td>24.0818</td><td>2.05948</td><td>20.734</td><td>0.0589457</td><td>19.1066</td><td>0.0229331</td><td>18.5042</td><td>0.0189435</td><td>18.2169</td><td>0.0558593</td><td>17.7225</td><td>0.516902 .. 0.0300727</td><td>166.812 .. 166.778</td><td>16.4928 .. 16.4883</td><td>43383309 .. 43383109</td><td>0.314972 .. 0.484014</td><td>0.00945996 .. 2.5481e-06</td></tr>\n",
       "<tr><td>SDSS526</td><td>57099</td><td>RMJ111735.7+254620.1</td><td>169.398751923</td><td>25.772258637</td><td>0.360478</td><td>0.0220826</td><td>20.3696</td><td>2.78077</td><td>1.00129</td><td>-1.0</td><td>1237667429031870672</td><td>0.0</td><td>0.0</td><td>20.9094</td><td>0.0916958</td><td>20.0442</td><td>0.0223045</td><td>19.1215</td><td>0.01498</td><td>18.8224</td><td>0.0185099</td><td>18.444</td><td>0.0489141</td><td>12.6684</td><td>0.462489 .. 0.000525927</td><td>169.399 .. 169.38</td><td>25.7723 .. 25.7867</td><td>38215125 .. 37912857</td><td>0.259423 .. 0.461533</td><td>5.49848e-07 .. 1.96224e-06</td></tr>\n",
       "<tr><td>SDSS541</td><td>50201</td><td>RMJ114820.7+315628.3</td><td>177.086271973</td><td>31.9411876829</td><td>0.37194</td><td>0.0184787</td><td>23.8477</td><td>3.35538</td><td>1.08567</td><td>0.368612</td><td>1237665329849434294</td><td>0.0</td><td>0.0</td><td>24.0244</td><td>2.25015</td><td>20.271</td><td>0.0413834</td><td>18.5118</td><td>0.0147878</td><td>17.891</td><td>0.0127113</td><td>17.5383</td><td>0.0343235</td><td>16.2169</td><td>0.994066 .. 3.85489e-07</td><td>177.086 .. 177.07</td><td>31.9412 .. 31.9299</td><td>32797386 .. 32797450</td><td>0.286436 .. 0.457445</td><td>0.00143158 .. 2.28353e-06</td></tr>\n",
       "<tr><td>SDSS573</td><td>35529</td><td>RMJ125703.3+364703.7</td><td>194.263749323</td><td>36.7843726502</td><td>0.485091</td><td>0.0141449</td><td>34.0228</td><td>7.08758</td><td>1.67054</td><td>-1.0</td><td>1237664672715506274</td><td>0.0</td><td>0.0</td><td>21.6385</td><td>0.262759</td><td>20.9213</td><td>0.0670678</td><td>19.6639</td><td>0.0333372</td><td>18.9908</td><td>0.0307954</td><td>18.4948</td><td>0.0827201</td><td>20.4518</td><td>0.645963 .. 0.000265322</td><td>194.264 .. 194.232</td><td>36.7844 .. 36.8313</td><td>29908711 .. 29908669</td><td>0.391049 .. 0.579134</td><td>2.63021e-09 .. 3.8971e-06</td></tr>\n",
       "<tr><td>SDSS603</td><td>43</td><td>RMJ140100.5+025149.7</td><td>210.252199891</td><td>2.86380910458</td><td>0.25709</td><td>0.0079811</td><td>134.279</td><td>5.20594</td><td>1.00677</td><td>0.2793</td><td>1237651754560389456</td><td>0.0</td><td>0.0</td><td>21.5675</td><td>0.338788</td><td>19.7309</td><td>0.0289393</td><td>18.1725</td><td>0.011697</td><td>17.6305</td><td>0.0111713</td><td>17.3314</td><td>0.0278108</td><td>85.4409</td><td>0.526249 .. 0.0136594</td><td>210.252 .. 210.263</td><td>2.86381 .. 2.87916</td><td>4022496 .. 4022617</td><td>0.209515 .. 0.304664</td><td>9.44974e-08 .. 5.82284e-06</td></tr>\n",
       "<tr><td>SDSS697</td><td>16192</td><td>RMJ213639.3-011550.8</td><td>324.163858481</td><td>-1.26411924924</td><td>0.482554</td><td>0.0132045</td><td>65.204</td><td>10.3056</td><td>1.85514</td><td>0.500673</td><td>1237653010810209461</td><td>0.0</td><td>0.0</td><td>26.0066</td><td>1.99091</td><td>22.1195</td><td>0.31853</td><td>19.3356</td><td>0.0364838</td><td>18.3835</td><td>0.0240075</td><td>17.9856</td><td>0.0616241</td><td>33.2178</td><td>0.687154 .. 6.30274e-05</td><td>324.164 .. 324.145</td><td>-1.26412 .. -1.26361</td><td>4995818 .. 4995796</td><td>0.397644 .. 0.567464</td><td>2.89522e-09 .. 3.3057e-06</td></tr>\n",
       "<tr><td>SDSS746</td><td>5151</td><td>RMJ233415.5+073549.3</td><td>353.56451363</td><td>7.59703506079</td><td>0.405252</td><td>0.0140584</td><td>53.2898</td><td>4.93335</td><td>1.25324</td><td>-1.0</td><td>1237669681185096227</td><td>0.0</td><td>0.0</td><td>21.6799</td><td>0.469439</td><td>20.4867</td><td>0.0526248</td><td>18.9114</td><td>0.0202353</td><td>18.3384</td><td>0.0175931</td><td>17.9584</td><td>0.0510399</td><td>42.2552</td><td>0.866274 .. 0.000860878</td><td>353.565 .. 353.563</td><td>7.59703 .. 7.61899</td><td>44090730 .. 44090729</td><td>0.33501 .. 0.475495</td><td>0.00292413 .. 3.53563e-06</td></tr>\n",
       "<tr><td>SDSS747</td><td>1710</td><td>RMJ234105.4+001815.2</td><td>355.27256751</td><td>0.304235649084</td><td>0.29283</td><td>0.0114555</td><td>60.2919</td><td>3.99258</td><td>1.0108</td><td>-1.0</td><td>1237666408440332617</td><td>0.0</td><td>0.0</td><td>22.8684</td><td>0.712216</td><td>20.3012</td><td>0.0282514</td><td>18.8045</td><td>0.0127966</td><td>18.2273</td><td>0.0108087</td><td>17.8327</td><td>0.0276525</td><td>31.7861</td><td>0.597807 .. 0.00159912</td><td>355.273 .. 355.287</td><td>0.304236 .. 0.305386</td><td>36295361 .. 36295511</td><td>0.220905 .. 0.364755</td><td>9.6273e-10 .. 3.4733e-06</td></tr>\n",
       "</table>"
      ],
      "text/plain": [
       "<Table length=16>\n",
       "  name    ID  ...     PZBINS [21]               PZ [21]          \n",
       " object int32 ...       float32                 float32          \n",
       "------- ----- ... -------------------- --------------------------\n",
       "SDSS069 12226 ... 0.198039 .. 0.349639  1.9704e-13 .. 4.25127e-06\n",
       "SDSS096   696 ... 0.163331 .. 0.225302 3.61536e-08 .. 8.92914e-06\n",
       "SDSS116  1108 ...  0.141623 .. 0.18971   4.156e-06 .. 1.16143e-05\n",
       "SDSS472 18584 ... 0.185062 .. 0.426724 6.84128e-24 .. 3.17597e-06\n",
       "SDSS476  7903 ... 0.378675 .. 0.512755 7.08238e-06 .. 3.72351e-06\n",
       "SDSS501   667 ...  0.22293 .. 0.360537 2.17844e-09 .. 4.34307e-06\n",
       "SDSS507  1628 ... 0.119574 .. 0.166594  2.87964e-05 .. 1.0316e-05\n",
       "SDSS517 40821 ... 0.227147 .. 0.415735 1.98081e-09 .. 3.12474e-06\n",
       "SDSS522 38088 ... 0.314972 .. 0.484014   0.00945996 .. 2.5481e-06\n",
       "SDSS526 57099 ... 0.259423 .. 0.461533 5.49848e-07 .. 1.96224e-06\n",
       "SDSS541 50201 ... 0.286436 .. 0.457445  0.00143158 .. 2.28353e-06\n",
       "SDSS573 35529 ... 0.391049 .. 0.579134  2.63021e-09 .. 3.8971e-06\n",
       "SDSS603    43 ... 0.209515 .. 0.304664 9.44974e-08 .. 5.82284e-06\n",
       "SDSS697 16192 ... 0.397644 .. 0.567464  2.89522e-09 .. 3.3057e-06\n",
       "SDSS746  5151 ...  0.33501 .. 0.475495  0.00292413 .. 3.53563e-06\n",
       "SDSS747  1710 ... 0.220905 .. 0.364755   9.6273e-10 .. 3.4733e-06"
      ]
     },
     "execution_count": 109,
     "metadata": {},
     "output_type": "execute_result"
    }
   ],
   "source": [
    "knowns"
   ]
  },
  {
   "cell_type": "code",
   "execution_count": 115,
   "metadata": {},
   "outputs": [
    {
     "name": "stdout",
     "output_type": "stream",
     "text": [
      "4\n",
      "5\n",
      "6\n",
      "7\n",
      "8\n",
      "9\n"
     ]
    }
   ],
   "source": [
    "for i in range(4,10):\n",
    "    print i"
   ]
  },
  {
   "cell_type": "code",
   "execution_count": null,
   "metadata": {
    "collapsed": true
   },
   "outputs": [],
   "source": []
  },
  {
   "cell_type": "code",
   "execution_count": null,
   "metadata": {
    "collapsed": true
   },
   "outputs": [],
   "source": []
  }
 ],
 "metadata": {
  "kernelspec": {
   "display_name": "Python [conda root]",
   "language": "python",
   "name": "conda-root-py"
  },
  "language_info": {
   "codemirror_mode": {
    "name": "ipython",
    "version": 2
   },
   "file_extension": ".py",
   "mimetype": "text/x-python",
   "name": "python",
   "nbconvert_exporter": "python",
   "pygments_lexer": "ipython2",
   "version": "2.7.13"
  }
 },
 "nbformat": 4,
 "nbformat_minor": 2
}
