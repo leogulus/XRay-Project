{
 "cells": [
  {
   "cell_type": "code",
   "execution_count": 21,
   "metadata": {
    "collapsed": true
   },
   "outputs": [],
   "source": [
    "import pandas as pd\n",
    "from astropy.coordinates import SkyCoord\n",
    "from astropy import units as u\n",
    "import matplotlib.pyplot as plt\n",
    "%matplotlib inline"
   ]
  },
  {
   "cell_type": "code",
   "execution_count": 7,
   "metadata": {
    "collapsed": false
   },
   "outputs": [],
   "source": [
    "names=[\"objid\", \"ra\", \"dec\", \"photoz\", \"photoz_err\", \"spz\", \"gmr\",\"gmr_err\",\"rmi\",\"rmi_err\",\"dered_u\",\"dered_g\",\"dered_r\",\\\n",
    "       \"dered_i\",\"dered_z\",\"u_Err\",\"g_Err\",\"r_Err\",\"i_Err\",\"z_Err\",\"S_Cluster\",\"GM_Scaled_Ngals\",\"GM_Ngals_Weighted\",\\\n",
    "       \"weightOK\",\"name\"]\n",
    "df_gmbcg=pd.read_csv('GMBCG_SDSS_DR7_PUB_ASCII.txt',skiprows=7,names=names)"
   ]
  },
  {
   "cell_type": "code",
   "execution_count": 8,
   "metadata": {
    "collapsed": true
   },
   "outputs": [],
   "source": [
    "df_sdss=pd.read_csv('/Users/taweewat/Documents/xray_project/ned-result/final_sdss_cut5.csv',index_col=0)"
   ]
  },
  {
   "cell_type": "code",
   "execution_count": 38,
   "metadata": {
    "collapsed": false
   },
   "outputs": [
    {
     "data": {
      "text/html": [
       "<div>\n",
       "<table border=\"1\" class=\"dataframe\">\n",
       "  <thead>\n",
       "    <tr style=\"text-align: right;\">\n",
       "      <th></th>\n",
       "      <th>objid</th>\n",
       "      <th>ra</th>\n",
       "      <th>dec</th>\n",
       "      <th>photoz</th>\n",
       "      <th>photoz_err</th>\n",
       "      <th>spz</th>\n",
       "      <th>gmr</th>\n",
       "      <th>gmr_err</th>\n",
       "      <th>rmi</th>\n",
       "      <th>rmi_err</th>\n",
       "      <th>...</th>\n",
       "      <th>u_Err</th>\n",
       "      <th>g_Err</th>\n",
       "      <th>r_Err</th>\n",
       "      <th>i_Err</th>\n",
       "      <th>z_Err</th>\n",
       "      <th>S_Cluster</th>\n",
       "      <th>GM_Scaled_Ngals</th>\n",
       "      <th>GM_Ngals_Weighted</th>\n",
       "      <th>weightOK</th>\n",
       "      <th>name</th>\n",
       "    </tr>\n",
       "  </thead>\n",
       "  <tbody>\n",
       "    <tr>\n",
       "      <th>0</th>\n",
       "      <td>588848900431806785</td>\n",
       "      <td>139.48462</td>\n",
       "      <td>0.290392</td>\n",
       "      <td>0.435</td>\n",
       "      <td>0.014</td>\n",
       "      <td>0.44524</td>\n",
       "      <td>1.821</td>\n",
       "      <td>0.091</td>\n",
       "      <td>0.752</td>\n",
       "      <td>0.032</td>\n",
       "      <td>...</td>\n",
       "      <td>1.370</td>\n",
       "      <td>0.086</td>\n",
       "      <td>0.027</td>\n",
       "      <td>0.018</td>\n",
       "      <td>0.055</td>\n",
       "      <td>13.149</td>\n",
       "      <td>34</td>\n",
       "      <td>0.0</td>\n",
       "      <td>0</td>\n",
       "      <td>GMBCG J139.48462+00.29039</td>\n",
       "    </tr>\n",
       "    <tr>\n",
       "      <th>1</th>\n",
       "      <td>587725073918132728</td>\n",
       "      <td>138.72786</td>\n",
       "      <td>-0.743814</td>\n",
       "      <td>0.445</td>\n",
       "      <td>0.080</td>\n",
       "      <td>0.00000</td>\n",
       "      <td>1.316</td>\n",
       "      <td>0.097</td>\n",
       "      <td>0.702</td>\n",
       "      <td>0.054</td>\n",
       "      <td>...</td>\n",
       "      <td>0.333</td>\n",
       "      <td>0.085</td>\n",
       "      <td>0.046</td>\n",
       "      <td>0.028</td>\n",
       "      <td>0.074</td>\n",
       "      <td>15.382</td>\n",
       "      <td>49</td>\n",
       "      <td>0.0</td>\n",
       "      <td>0</td>\n",
       "      <td>GMBCG J138.72786-00.74381</td>\n",
       "    </tr>\n",
       "    <tr>\n",
       "      <th>2</th>\n",
       "      <td>587725074450023190</td>\n",
       "      <td>127.47054</td>\n",
       "      <td>-0.236442</td>\n",
       "      <td>0.443</td>\n",
       "      <td>0.018</td>\n",
       "      <td>0.00000</td>\n",
       "      <td>1.763</td>\n",
       "      <td>0.073</td>\n",
       "      <td>0.775</td>\n",
       "      <td>0.030</td>\n",
       "      <td>...</td>\n",
       "      <td>0.383</td>\n",
       "      <td>0.068</td>\n",
       "      <td>0.026</td>\n",
       "      <td>0.015</td>\n",
       "      <td>0.044</td>\n",
       "      <td>14.388</td>\n",
       "      <td>20</td>\n",
       "      <td>0.0</td>\n",
       "      <td>0</td>\n",
       "      <td>GMBCG J127.47054-00.23644</td>\n",
       "    </tr>\n",
       "    <tr>\n",
       "      <th>3</th>\n",
       "      <td>587725074992005814</td>\n",
       "      <td>139.09781</td>\n",
       "      <td>0.103403</td>\n",
       "      <td>0.464</td>\n",
       "      <td>0.034</td>\n",
       "      <td>0.00000</td>\n",
       "      <td>1.782</td>\n",
       "      <td>0.155</td>\n",
       "      <td>0.784</td>\n",
       "      <td>0.059</td>\n",
       "      <td>...</td>\n",
       "      <td>1.030</td>\n",
       "      <td>0.146</td>\n",
       "      <td>0.050</td>\n",
       "      <td>0.032</td>\n",
       "      <td>0.074</td>\n",
       "      <td>13.479</td>\n",
       "      <td>13</td>\n",
       "      <td>0.0</td>\n",
       "      <td>0</td>\n",
       "      <td>GMBCG J139.09781+00.10340</td>\n",
       "    </tr>\n",
       "    <tr>\n",
       "      <th>4</th>\n",
       "      <td>587722982296584608</td>\n",
       "      <td>224.80738</td>\n",
       "      <td>-0.690585</td>\n",
       "      <td>0.440</td>\n",
       "      <td>0.016</td>\n",
       "      <td>0.00000</td>\n",
       "      <td>1.779</td>\n",
       "      <td>0.088</td>\n",
       "      <td>0.774</td>\n",
       "      <td>0.034</td>\n",
       "      <td>...</td>\n",
       "      <td>1.028</td>\n",
       "      <td>0.084</td>\n",
       "      <td>0.027</td>\n",
       "      <td>0.021</td>\n",
       "      <td>0.043</td>\n",
       "      <td>16.984</td>\n",
       "      <td>30</td>\n",
       "      <td>0.0</td>\n",
       "      <td>0</td>\n",
       "      <td>GMBCG J224.80738-00.69059</td>\n",
       "    </tr>\n",
       "  </tbody>\n",
       "</table>\n",
       "<p>5 rows × 25 columns</p>\n",
       "</div>"
      ],
      "text/plain": [
       "                objid         ra       dec  photoz  photoz_err      spz  \\\n",
       "0  588848900431806785  139.48462  0.290392   0.435       0.014  0.44524   \n",
       "1  587725073918132728  138.72786 -0.743814   0.445       0.080  0.00000   \n",
       "2  587725074450023190  127.47054 -0.236442   0.443       0.018  0.00000   \n",
       "3  587725074992005814  139.09781  0.103403   0.464       0.034  0.00000   \n",
       "4  587722982296584608  224.80738 -0.690585   0.440       0.016  0.00000   \n",
       "\n",
       "     gmr  gmr_err    rmi  rmi_err              ...               u_Err  g_Err  \\\n",
       "0  1.821    0.091  0.752    0.032              ...               1.370  0.086   \n",
       "1  1.316    0.097  0.702    0.054              ...               0.333  0.085   \n",
       "2  1.763    0.073  0.775    0.030              ...               0.383  0.068   \n",
       "3  1.782    0.155  0.784    0.059              ...               1.030  0.146   \n",
       "4  1.779    0.088  0.774    0.034              ...               1.028  0.084   \n",
       "\n",
       "   r_Err  i_Err  z_Err  S_Cluster  GM_Scaled_Ngals  GM_Ngals_Weighted  \\\n",
       "0  0.027  0.018  0.055     13.149               34                0.0   \n",
       "1  0.046  0.028  0.074     15.382               49                0.0   \n",
       "2  0.026  0.015  0.044     14.388               20                0.0   \n",
       "3  0.050  0.032  0.074     13.479               13                0.0   \n",
       "4  0.027  0.021  0.043     16.984               30                0.0   \n",
       "\n",
       "   weightOK                          name  \n",
       "0         0  GMBCG J139.48462+00.29039     \n",
       "1         0  GMBCG J138.72786-00.74381     \n",
       "2         0  GMBCG J127.47054-00.23644     \n",
       "3         0  GMBCG J139.09781+00.10340     \n",
       "4         0  GMBCG J224.80738-00.69059     \n",
       "\n",
       "[5 rows x 25 columns]"
      ]
     },
     "execution_count": 38,
     "metadata": {},
     "output_type": "execute_result"
    }
   ],
   "source": [
    "df_gmbcg.head()"
   ]
  },
  {
   "cell_type": "code",
   "execution_count": 13,
   "metadata": {
    "collapsed": false
   },
   "outputs": [],
   "source": [
    "c=SkyCoord(ra=df_sdss.ra*u.degree, dec=df_sdss.dec*u.degree)\n",
    "catalog=SkyCoord(ra=df_gmbcg.ra*u.degree, dec=df_gmbcg.dec*u.degree)"
   ]
  },
  {
   "cell_type": "code",
   "execution_count": 14,
   "metadata": {
    "collapsed": true
   },
   "outputs": [],
   "source": [
    "idx, d2d, d3d = c.match_to_catalog_sky(catalog) "
   ]
  },
  {
   "cell_type": "code",
   "execution_count": 33,
   "metadata": {
    "collapsed": false
   },
   "outputs": [
    {
     "data": {
      "image/png": "[encoded data removed]",
      "text/plain": [
       "<matplotlib.figure.Figure at 0x11e54bf50>"
      ]
     },
     "metadata": {},
     "output_type": "display_data"
    }
   ],
   "source": [
    "plt.hist(d2d.to(u.arcmin)[d2d.to(u.arcmin)<5*u.arcmin],bins=20);"
   ]
  },
  {
   "cell_type": "code",
   "execution_count": 63,
   "metadata": {
    "collapsed": false
   },
   "outputs": [],
   "source": [
    "df_sdss['GMBCG']=df_gmbcg.loc[idx]['name'].values\n",
    "df_sdss['GMBCG_dist']=d2d.to(u.arcmin).value\n",
    "df_sdss['GMBCG_str']=df_gmbcg.loc[idx]['S_Cluster'].values"
   ]
  },
  {
   "cell_type": "code",
   "execution_count": 76,
   "metadata": {
    "collapsed": false
   },
   "outputs": [
    {
     "data": {
      "text/plain": [
       "69     SDSS069\n",
       "123    SDSS123\n",
       "127    SDSS127\n",
       "137    SDSS137\n",
       "469    SDSS469\n",
       "478    SDSS478\n",
       "486    SDSS486\n",
       "501    SDSS501\n",
       "506    SDSS506\n",
       "507    SDSS507\n",
       "530    SDSS530\n",
       "603    SDSS603\n",
       "612    SDSS612\n",
       "634    SDSS634\n",
       "649    SDSS649\n",
       "747    SDSS747\n",
       "Name: name, dtype: object"
      ]
     },
     "execution_count": 76,
     "metadata": {},
     "output_type": "execute_result"
    }
   ],
   "source": [
    "df_sdss[(df_sdss['GMBCG_dist']<5.) & (df_sdss['GMBCG_str']>=10.)].name"
   ]
  },
  {
   "cell_type": "code",
   "execution_count": null,
   "metadata": {
    "collapsed": true
   },
   "outputs": [],
   "source": []
  }
 ],
 "metadata": {
  "anaconda-cloud": {},
  "kernelspec": {
   "display_name": "Python [conda root]",
   "language": "python",
   "name": "conda-root-py"
  },
  "language_info": {
   "codemirror_mode": {
    "name": "ipython",
    "version": 2
   },
   "file_extension": ".py",
   "mimetype": "text/x-python",
   "name": "python",
   "nbconvert_exporter": "python",
   "pygments_lexer": "ipython2",
   "version": "2.7.13"
  }
 },
 "nbformat": 4,
 "nbformat_minor": 2
}
