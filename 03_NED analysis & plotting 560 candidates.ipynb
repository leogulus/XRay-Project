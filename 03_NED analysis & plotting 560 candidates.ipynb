{
 "cells": [
  {
   "cell_type": "code",
   "execution_count": null,
   "metadata": {},
   "outputs": [],
   "source": [
    "\"\"\"\n",
    "ned-result folder come from visually inspect individual object and wrote down the property for each one of them\n",
    "(NED and SDSS database)\n",
    "\"\"\""
   ]
  },
  {
   "cell_type": "code",
   "execution_count": 1,
   "metadata": {},
   "outputs": [],
   "source": [
    "import matplotlib.pyplot as plt\n",
    "import matplotlib.pylab as pylab\n",
    "from matplotlib import cm\n",
    "import matplotlib\n",
    "\n",
    "import pandas as pd\n",
    "import numpy as np\n",
    "import csv\n",
    "import sys\n",
    "\n",
    "from astropy.io import ascii\n",
    "# import mpld3\n",
    "# from mpld3 import plugins, utils\n",
    "import urllib2\n",
    "\n",
    "#my own library for deg_hr, hr_deg\n",
    "from ch_py import *\n",
    "\n",
    "%matplotlib inline\n",
    "#pylab.rcParams['figure.figsize'] = 8, 7\n",
    "\n",
    "import seaborn as sns\n",
    "sns.set(context='talk',style='ticks',font='serif',palette='muted',rc={\"xtick.direction\":\"in\",\"ytick.direction\":\"in\"})\n",
    "\n",
    "#mpld3.enable_notebook()\n",
    "#mpld3.disable_notebook()"
   ]
  },
  {
   "cell_type": "code",
   "execution_count": 3,
   "metadata": {
    "collapsed": true
   },
   "outputs": [],
   "source": [
    "#function to remove all non-numbers characters into Nan\n",
    "def func(x):\n",
    "    try:\n",
    "        return float(x)\n",
    "    except ValueError:\n",
    "        return -1."
   ]
  },
  {
   "cell_type": "markdown",
   "metadata": {},
   "source": [
    "<hr>\n",
    "\n",
    "## NED Analysis"
   ]
  },
  {
   "cell_type": "code",
   "execution_count": 4,
   "metadata": {},
   "outputs": [
    {
     "name": "stdout",
     "output_type": "stream",
     "text": [
      "(101, 52) (752, 52)\n"
     ]
    }
   ],
   "source": [
    "df = pd.read_csv('/Users/taweewat/Documents/xray_project/result/cut-05.csv',\\\n",
    "                    keep_default_na=False, na_values=[\"\"])\n",
    "print df.loc[0:100].shape, df.shape#.dropna().shape"
   ]
  },
  {
   "cell_type": "code",
   "execution_count": 5,
   "metadata": {},
   "outputs": [
    {
     "data": {
      "text/plain": [
       "(array([ 586.,  157.,    6.,    3.]),\n",
       " array([  0,  10,  20,  30, 100]),\n",
       " <a list of 4 Patch objects>)"
      ]
     },
     "execution_count": 5,
     "metadata": {},
     "output_type": "execute_result"
    },
    {
     "data": {
      "image/png": "[encoded data removed]",
      "text/plain": [
       "<Figure size 432x288 with 1 Axes>"
      ]
     },
     "metadata": {},
     "output_type": "display_data"
    }
   ],
   "source": [
    "plt.hist(np.sqrt(((df['ra']+df['ra_radio'])/2-df['ra_m'])**2+((df['dec']+df['dec_radio'])/2-df['dec_m'])**2)*3600, bins=[0,10,20,30,100])"
   ]
  },
  {
   "cell_type": "code",
   "execution_count": null,
   "metadata": {
    "collapsed": true
   },
   "outputs": [],
   "source": [
    "#df.loc[df[df.isnull().any(axis=1)].index[0]]"
   ]
  },
  {
   "cell_type": "code",
   "execution_count": 6,
   "metadata": {
    "scrolled": true
   },
   "outputs": [
    {
     "data": {
      "text/html": [
       "<div>\n",
       "<style scoped>\n",
       "    .dataframe tbody tr th:only-of-type {\n",
       "        vertical-align: middle;\n",
       "    }\n",
       "\n",
       "    .dataframe tbody tr th {\n",
       "        vertical-align: top;\n",
       "    }\n",
       "\n",
       "    .dataframe thead th {\n",
       "        text-align: right;\n",
       "    }\n",
       "</style>\n",
       "<table border=\"1\" class=\"dataframe\">\n",
       "  <thead>\n",
       "    <tr style=\"text-align: right;\">\n",
       "      <th></th>\n",
       "      <th>ra</th>\n",
       "      <th>dec</th>\n",
       "      <th>xc</th>\n",
       "      <th>exc</th>\n",
       "      <th>hr1</th>\n",
       "      <th>ehr1</th>\n",
       "      <th>hr2</th>\n",
       "      <th>ehr2</th>\n",
       "      <th>dec_radio</th>\n",
       "      <th>df_radio</th>\n",
       "      <th>...</th>\n",
       "      <th>rad_f</th>\n",
       "      <th>erad_f</th>\n",
       "      <th>xray</th>\n",
       "      <th>mir</th>\n",
       "      <th>radio</th>\n",
       "      <th>exray</th>\n",
       "      <th>emir</th>\n",
       "      <th>eradio</th>\n",
       "      <th>RA</th>\n",
       "      <th>DEC</th>\n",
       "    </tr>\n",
       "  </thead>\n",
       "  <tbody>\n",
       "    <tr>\n",
       "      <th>0</th>\n",
       "      <td>133.04916</td>\n",
       "      <td>76.45306</td>\n",
       "      <td>0.03920</td>\n",
       "      <td>0.011130</td>\n",
       "      <td>0.21</td>\n",
       "      <td>0.26</td>\n",
       "      <td>0.00</td>\n",
       "      <td>0.33</td>\n",
       "      <td>76.455056</td>\n",
       "      <td>6.5</td>\n",
       "      <td>...</td>\n",
       "      <td>1.906000e-24</td>\n",
       "      <td>3.361420e-26</td>\n",
       "      <td>-3.938519</td>\n",
       "      <td>1.181296</td>\n",
       "      <td>2.493392</td>\n",
       "      <td>0.133939</td>\n",
       "      <td>0.070364</td>\n",
       "      <td>0.053047</td>\n",
       "      <td>133.049330</td>\n",
       "      <td>76.454058</td>\n",
       "    </tr>\n",
       "    <tr>\n",
       "      <th>1</th>\n",
       "      <td>34.37958</td>\n",
       "      <td>73.82569</td>\n",
       "      <td>0.03880</td>\n",
       "      <td>0.008869</td>\n",
       "      <td>1.00</td>\n",
       "      <td>0.21</td>\n",
       "      <td>0.60</td>\n",
       "      <td>0.16</td>\n",
       "      <td>73.825639</td>\n",
       "      <td>68.1</td>\n",
       "      <td>...</td>\n",
       "      <td>2.271000e-23</td>\n",
       "      <td>3.521734e-25</td>\n",
       "      <td>-3.872174</td>\n",
       "      <td>1.345296</td>\n",
       "      <td>3.640287</td>\n",
       "      <td>0.116648</td>\n",
       "      <td>0.070748</td>\n",
       "      <td>0.061729</td>\n",
       "      <td>34.379123</td>\n",
       "      <td>73.825664</td>\n",
       "    </tr>\n",
       "    <tr>\n",
       "      <th>2</th>\n",
       "      <td>137.11916</td>\n",
       "      <td>72.27611</td>\n",
       "      <td>0.03119</td>\n",
       "      <td>0.010460</td>\n",
       "      <td>0.13</td>\n",
       "      <td>0.35</td>\n",
       "      <td>0.31</td>\n",
       "      <td>0.39</td>\n",
       "      <td>72.274694</td>\n",
       "      <td>9.5</td>\n",
       "      <td>...</td>\n",
       "      <td>3.178000e-24</td>\n",
       "      <td>4.912844e-26</td>\n",
       "      <td>-3.838990</td>\n",
       "      <td>1.457696</td>\n",
       "      <td>2.914223</td>\n",
       "      <td>0.164921</td>\n",
       "      <td>0.089388</td>\n",
       "      <td>0.077844</td>\n",
       "      <td>137.121913</td>\n",
       "      <td>72.275402</td>\n",
       "    </tr>\n",
       "    <tr>\n",
       "      <th>3</th>\n",
       "      <td>156.65541</td>\n",
       "      <td>70.54361</td>\n",
       "      <td>0.03453</td>\n",
       "      <td>0.012260</td>\n",
       "      <td>0.01</td>\n",
       "      <td>0.36</td>\n",
       "      <td>-0.79</td>\n",
       "      <td>0.78</td>\n",
       "      <td>70.545333</td>\n",
       "      <td>4.1</td>\n",
       "      <td>...</td>\n",
       "      <td>1.351000e-24</td>\n",
       "      <td>2.120280e-26</td>\n",
       "      <td>-3.864009</td>\n",
       "      <td>1.146896</td>\n",
       "      <td>2.473525</td>\n",
       "      <td>0.172692</td>\n",
       "      <td>0.092658</td>\n",
       "      <td>0.078258</td>\n",
       "      <td>156.653913</td>\n",
       "      <td>70.544472</td>\n",
       "    </tr>\n",
       "    <tr>\n",
       "      <th>4</th>\n",
       "      <td>114.08708</td>\n",
       "      <td>65.22320</td>\n",
       "      <td>0.02377</td>\n",
       "      <td>0.010900</td>\n",
       "      <td>0.69</td>\n",
       "      <td>0.35</td>\n",
       "      <td>0.93</td>\n",
       "      <td>1.13</td>\n",
       "      <td>65.220833</td>\n",
       "      <td>3.0</td>\n",
       "      <td>...</td>\n",
       "      <td>8.400000e-25</td>\n",
       "      <td>1.551425e-26</td>\n",
       "      <td>-3.978176</td>\n",
       "      <td>1.131696</td>\n",
       "      <td>2.315149</td>\n",
       "      <td>0.211597</td>\n",
       "      <td>0.111220</td>\n",
       "      <td>0.072322</td>\n",
       "      <td>114.088957</td>\n",
       "      <td>65.222017</td>\n",
       "    </tr>\n",
       "  </tbody>\n",
       "</table>\n",
       "<p>5 rows × 52 columns</p>\n",
       "</div>"
      ],
      "text/plain": [
       "          ra       dec       xc       exc   hr1  ehr1   hr2  ehr2  dec_radio  \\\n",
       "0  133.04916  76.45306  0.03920  0.011130  0.21  0.26  0.00  0.33  76.455056   \n",
       "1   34.37958  73.82569  0.03880  0.008869  1.00  0.21  0.60  0.16  73.825639   \n",
       "2  137.11916  72.27611  0.03119  0.010460  0.13  0.35  0.31  0.39  72.274694   \n",
       "3  156.65541  70.54361  0.03453  0.012260  0.01  0.36 -0.79  0.78  70.545333   \n",
       "4  114.08708  65.22320  0.02377  0.010900  0.69  0.35  0.93  1.13  65.220833   \n",
       "\n",
       "   df_radio    ...             rad_f        erad_f      xray       mir  \\\n",
       "0       6.5    ...      1.906000e-24  3.361420e-26 -3.938519  1.181296   \n",
       "1      68.1    ...      2.271000e-23  3.521734e-25 -3.872174  1.345296   \n",
       "2       9.5    ...      3.178000e-24  4.912844e-26 -3.838990  1.457696   \n",
       "3       4.1    ...      1.351000e-24  2.120280e-26 -3.864009  1.146896   \n",
       "4       3.0    ...      8.400000e-25  1.551425e-26 -3.978176  1.131696   \n",
       "\n",
       "      radio     exray      emir    eradio          RA        DEC  \n",
       "0  2.493392  0.133939  0.070364  0.053047  133.049330  76.454058  \n",
       "1  3.640287  0.116648  0.070748  0.061729   34.379123  73.825664  \n",
       "2  2.914223  0.164921  0.089388  0.077844  137.121913  72.275402  \n",
       "3  2.473525  0.172692  0.092658  0.078258  156.653913  70.544472  \n",
       "4  2.315149  0.211597  0.111220  0.072322  114.088957  65.222017  \n",
       "\n",
       "[5 rows x 52 columns]"
      ]
     },
     "execution_count": 6,
     "metadata": {},
     "output_type": "execute_result"
    }
   ],
   "source": [
    "df.head()"
   ]
  },
  {
   "cell_type": "markdown",
   "metadata": {},
   "source": [
    "## prepare value for NED search\n",
    "URL: https://ned.ipac.caltech.edu/forms/nnd.html\n",
    "seperation: 15\""
   ]
  },
  {
   "cell_type": "code",
   "execution_count": 7,
   "metadata": {
    "scrolled": false
   },
   "outputs": [
    {
     "name": "stdout",
     "output_type": "stream",
     "text": [
      "RA\tDEC\n",
      "327.495801667\t-18.9905527778\n",
      "327.981373333\t-30.4650972222\n",
      "328.747855834\t7.33076277778\n",
      "330.167498334\t-23.1241955556\n",
      "330.280833334\t5.07737333334\n",
      "330.6826875\t42.2759177778\n",
      "331.67237\t-21.3293305556\n",
      "332.636935833\t-55.1428861111\n",
      "332.9605225\t-37.1192061111\n",
      "333.394884166\t-63.4980577778\n",
      "334.279158333\t-30.5789883333\n",
      "334.9359875\t21.3487211111\n",
      "335.309466666\t-28.0722627778\n",
      "335.7773125\t-34.9285416667\n",
      "336.409644167\t21.3018216666\n",
      "336.9815675\t-43.5627627778\n",
      "337.665415\t-39.7135294445\n",
      "340.079899167\t-52.5312383333\n",
      "340.258135833\t27.5485438889\n",
      "340.598529167\t-60.742985\n",
      "341.253854166\t-49.5276794445\n",
      "341.642128333\t-28.89725\n",
      "341.809730833\t2.06908111111\n",
      "342.075496667\t-10.2644155555\n",
      "342.4987375\t-33.2557211111\n",
      "342.8300725\t-38.4523627778\n",
      "343.491043333\t16.1483883333\n",
      "343.5400675\t24.7564588889\n",
      "343.859003333\t30.4209994444\n",
      "344.108364166\t-65.5563216667\n",
      "345.7657675\t-18.6921366667\n",
      "345.927495\t-68.126725\n",
      "346.1536125\t37.0852505556\n",
      "346.725685833\t-34.6529033334\n",
      "346.824449167\t-42.6035138889\n",
      "347.41858\t-36.5431661111\n",
      "347.540581666\t10.7929844445\n",
      "348.144099167\t-34.0723066667\n",
      "349.985725833\t40.5358033334\n",
      "350.856123333\t58.8131361111\n",
      "351.3633425\t-48.0059605555\n",
      "351.527520833\t-4.47017833334\n",
      "352.044144167\t29.6186116667\n",
      "352.322158333\t-47.5050966667\n",
      "353.480698333\t-23.7272888889\n",
      "353.5556475\t7.60897388889\n",
      "355.277168333\t0.309695\n",
      "355.736203333\t-3.37414111111\n",
      "356.183104167\t-42.72129\n",
      "357.445748333\t-23.88011\n",
      "358.857011667\t-33.9666683334\n",
      "\n"
     ]
    }
   ],
   "source": [
    "#prepare value for NED search by creating list of RA and DEC sutiable for the search\n",
    "print (df.loc[701:,['RA','DEC']]).to_csv(sep='\\t', index=False)"
   ]
  },
  {
   "cell_type": "code",
   "execution_count": 8,
   "metadata": {},
   "outputs": [
    {
     "name": "stdout",
     "output_type": "stream",
     "text": [
      "(2399, 12)\n",
      "(752, 12)\n"
     ]
    }
   ],
   "source": [
    "# dff=pd.read_csv('/Users/taweewat/Documents/xray_project/candidate_757.txt', keep_default_na=True, sep=\"|\",\\\n",
    "#                 skiprows=0,names=headers)\n",
    "\n",
    "headers=['1','2','ra_dec','sep','3','name','ra_h','dec_h','type','redshift','4','5']\n",
    "dff=pd.read_csv('/Users/taweewat/Documents/xray_project/candidate_752_v5.txt', keep_default_na=True, sep=\"|\",\\\n",
    "                skiprows=0,names=headers)\n",
    "dff=dff[4:]\n",
    "print dff.shape\n",
    "df2=dff.loc[dff['ra_dec']!='                              ']\n",
    "# df2.duplicated('ra_dec')\n",
    "print df2.shape\n",
    "# df2.tail()"
   ]
  },
  {
   "cell_type": "code",
   "execution_count": null,
   "metadata": {
    "scrolled": true
   },
   "outputs": [],
   "source": [
    "dff"
   ]
  },
  {
   "cell_type": "code",
   "execution_count": null,
   "metadata": {},
   "outputs": [],
   "source": []
  },
  {
   "cell_type": "raw",
   "metadata": {},
   "source": [
    "headers=['1','ra_dec','sep','name','ra_h','dec_h','type','redshift','4','5']\n",
    "dff=pd.read_csv('/Users/taweewat/Documents/xray_project/candidates.txt', keep_default_na=True, sep=\"|\",\\\n",
    "                skiprows=0,names=headers)\n",
    "dff=dff[2:]\n",
    "#dff.loc[dff['ra_dec']!='                              '].tail()\n",
    "dff=dff.loc[:,['ra_dec','sep','name','type','redshift']]\n",
    "#dff.head()"
   ]
  },
  {
   "cell_type": "code",
   "execution_count": null,
   "metadata": {
    "collapsed": true,
    "scrolled": true
   },
   "outputs": [],
   "source": [
    "# headers=['1','2','ra_dec','sep','3','name','ra_h','dec_h','type','redshift','4','5']\n",
    "# dff=pd.read_csv('/Users/taweewat/Documents/xray_project/candidate_757.txt', keep_default_na=True, sep=\"|\",\\                \n",
    "#                 skiprows=0,names=headers)\n",
    "#dff=dff[4:]\n",
    "\n",
    "# dff=pd.read_csv('/Users/taweewat/Documents/xray_project/candidates.txt', keep_default_na=True, sep=\"|\",\\\n",
    "#                 skiprows=0,names=headers)\n",
    "# dff=dff[2:]\n",
    "# dff=dff.loc[:,['ra_dec','sep','name','type','redshift']]\n",
    "\n",
    "\n",
    "dff['ra']=[i.strip().split(' ')[0] for i in dff['ra_dec'].values]\n",
    "dff['dec']=[i.strip().split(' ')[-1] for i in dff['ra_dec'].values]\n",
    "dff['redshift']=[i.strip() for i in dff['redshift'].values]\n",
    "\n",
    "\n",
    "redshift_a=np.zeros(df.shape[0])-1\n",
    "sep_a=np.zeros(df.shape[0])-1\n",
    "type_a=[\"\" for x in range(df.shape[0])]\n",
    "\n",
    "i_df=-1\n",
    "for index, row in dff.iterrows():\n",
    "    if row['ra']!='':\n",
    "        i_df+=1\n",
    "        if row['redshift']!='':\n",
    "            redshift_a[i_df]=row['redshift']        \n",
    "            sep_a[i_df]=row['sep']\n",
    "            type_a[i_df]=row['type']\n",
    "    elif row['ra']=='':\n",
    "        if row['redshift']!='':\n",
    "            if redshift_a[i_df]==-1:\n",
    "                redshift_a[i_df]=row['redshift']\n",
    "                sep_a[i_df]=row['sep']\n",
    "                type_a[i_df]=row['type']"
   ]
  },
  {
   "cell_type": "code",
   "execution_count": null,
   "metadata": {},
   "outputs": [],
   "source": [
    "df[(df['ra']>193) & (df['ra']<194)]"
   ]
  },
  {
   "cell_type": "code",
   "execution_count": null,
   "metadata": {
    "scrolled": false
   },
   "outputs": [],
   "source": [
    "df['redshift']=redshift_a\n",
    "df.loc[:,'sep']=sep_a\n",
    "df.loc[:,'type']=type_a\n",
    "df.head()"
   ]
  },
  {
   "cell_type": "code",
   "execution_count": null,
   "metadata": {
    "scrolled": false
   },
   "outputs": [],
   "source": [
    "plt.hist(df.loc[df['sep']!=-1,'sep']);"
   ]
  },
  {
   "cell_type": "code",
   "execution_count": null,
   "metadata": {
    "scrolled": true
   },
   "outputs": [],
   "source": [
    "len(df['RA'])"
   ]
  },
  {
   "cell_type": "markdown",
   "metadata": {},
   "source": [
    "## check whether there is SDSS data in the archive"
   ]
  },
  {
   "cell_type": "code",
   "execution_count": null,
   "metadata": {},
   "outputs": [],
   "source": [
    "x=urllib2.urlopen(\"http://skyservice.pha.jhu.edu/DR12/ImgCutout/getjpeg.aspx?ra=101.25618917&dec=60.41442889&scale=0.20&width=400&height=400&opt=OG\")\n",
    "empty_file=x.read()\n",
    "\n",
    "scale=0.2\n",
    "width=400\n",
    "height=400\n",
    "\n",
    "sdss=[]\n",
    "for i in range(len(df['RA'])):\n",
    "    RA=df['RA'][i]\n",
    "    DEC=df['DEC'][i]\n",
    "    url = (\"http://skyservice.pha.jhu.edu/DR12/ImgCutout/\"\n",
    "           \"getjpeg.aspx?ra=%.8f&dec=%.8f&scale=%.2f&width=%i&height=%i&opt=OG\"%(RA, DEC, scale, width, height))\n",
    "    print url\n",
    "    page=urllib2.urlopen(url)\n",
    "    img=page.read()\n",
    "    if img==empty_file:\n",
    "        print 'empty'\n",
    "        sdss.append('no')\n",
    "    else:\n",
    "        print 'image'\n",
    "        sdss.append('yes')"
   ]
  },
  {
   "cell_type": "code",
   "execution_count": null,
   "metadata": {},
   "outputs": [],
   "source": [
    "len(sdss)"
   ]
  },
  {
   "cell_type": "code",
   "execution_count": null,
   "metadata": {
    "collapsed": true
   },
   "outputs": [],
   "source": [
    "df.loc[:,'SDSS']=sdss"
   ]
  },
  {
   "cell_type": "code",
   "execution_count": null,
   "metadata": {
    "collapsed": true
   },
   "outputs": [],
   "source": [
    "def reject_redshift(x):\n",
    "    if x==-1 or (x>=0.1 and x<=0.7):\n",
    "        return 'not_reject'\n",
    "    else:\n",
    "        return 'reject'\n",
    "     \n",
    "def follow(row):\n",
    "    if row['SDSS']=='no' and row['reject']=='not_reject':\n",
    "        return 'follow'\n",
    "    if row['SDSS']=='yes' and row['reject']=='not_reject':\n",
    "        return 'followed'\n",
    "    if row['SDSS']=='no' and row['reject']=='reject':\n",
    "        return 'outSD/outside'\n",
    "    if row['SDSS']=='yes' and row['reject']=='reject':\n",
    "        return 'inSD/outside'\n",
    "\n",
    "df.loc[:,'reject']=df['redshift'].apply(reject_redshift)\n",
    "df.loc[:,'followup']=df.apply(follow, axis=1)\n",
    "df.loc[:,'RA0']=df.loc[:,'RA']\n",
    "df.loc[:,'DEC0']=df.loc[:,'DEC']"
   ]
  },
  {
   "cell_type": "code",
   "execution_count": null,
   "metadata": {
    "scrolled": true
   },
   "outputs": [],
   "source": [
    "df['reject'].value_counts()"
   ]
  },
  {
   "cell_type": "code",
   "execution_count": null,
   "metadata": {},
   "outputs": [],
   "source": [
    "print df['followup'].value_counts()\n",
    "print df['SDSS'].value_counts()"
   ]
  },
  {
   "cell_type": "code",
   "execution_count": null,
   "metadata": {
    "collapsed": true
   },
   "outputs": [],
   "source": [
    "## save the new table\n",
    "df.to_csv('/Users/taweewat/Documents/xray_project/ned-result/final_cut5.csv', index=False)"
   ]
  },
  {
   "cell_type": "code",
   "execution_count": null,
   "metadata": {
    "collapsed": true
   },
   "outputs": [],
   "source": [
    "#df[(df.redshift>0.7) & (df.redshift<0.8)]"
   ]
  },
  {
   "cell_type": "markdown",
   "metadata": {},
   "source": [
    "# Quick analysis on specific object (start here for plot)"
   ]
  },
  {
   "cell_type": "code",
   "execution_count": 39,
   "metadata": {},
   "outputs": [
    {
     "data": {
      "text/plain": [
       "Index([u'ra', u'dec', u'xc', u'exc', u'hr1', u'ehr1', u'hr2', u'ehr2',\n",
       "       u'dec_radio', u'df_radio', u'f_radio', u'ra_radio', u'f_radio_n',\n",
       "       u'flag', u'dist', u'ra_w', u'dec_w', u'w1', u'ew1', u'dist_w', u'w2',\n",
       "       u'ew2', u'w3', u'ew3', u'w4', u'ew4', u'ra_m', u'dec_m', u'j_m',\n",
       "       u'ej_m', u'dist_m', u'h_m', u'eh_m', u'k_m', u'ek_m', u'df_radio_n',\n",
       "       u'wi_f', u'ewi_f', u'2m_f', u'e2m_f', u'x_f', u'ex_f', u'rad_f',\n",
       "       u'erad_f', u'xray', u'mir', u'radio', u'exray', u'emir', u'eradio',\n",
       "       u'RA', u'DEC', u'redshift', u'sep', u'type', u'SDSS', u'reject',\n",
       "       u'followup', u'RA0', u'DEC0'],\n",
       "      dtype='object')"
      ]
     },
     "execution_count": 39,
     "metadata": {},
     "output_type": "execute_result"
    }
   ],
   "source": [
    "dff=pd.read_csv('/Users/taweewat/Documents/xray_project/ned-result/final_cut5.csv')\n",
    "dff.columns"
   ]
  },
  {
   "cell_type": "code",
   "execution_count": 31,
   "metadata": {},
   "outputs": [
    {
     "data": {
      "text/plain": [
       "(752, 60)"
      ]
     },
     "execution_count": 31,
     "metadata": {},
     "output_type": "execute_result"
    }
   ],
   "source": [
    "phoe=(356.18307,-42.720204)\n",
    "abell=(210.258631,2.878468)\n",
    "ngc=(49.950416,41.51166)\n",
    "dff.shape"
   ]
  },
  {
   "cell_type": "code",
   "execution_count": 11,
   "metadata": {
    "collapsed": true
   },
   "outputs": [],
   "source": [
    "target_15=dff.loc[(((dff.loc[:,'RA']-261.8475)**2+(dff.loc[:,'DEC']-55.1813888889)**2)**0.5).idxmin(),:]\n",
    "#target_15;"
   ]
  },
  {
   "cell_type": "code",
   "execution_count": 32,
   "metadata": {},
   "outputs": [
    {
     "data": {
      "text/plain": [
       "ra     210.259\n",
       "dec    2.88042\n",
       "xc       0.713\n",
       "exc    0.04587\n",
       "hr1       0.46\n",
       "Name: 603, dtype: object"
      ]
     },
     "execution_count": 32,
     "metadata": {},
     "output_type": "execute_result"
    }
   ],
   "source": [
    "dff.loc[np.argmin(np.abs((dff['RA0']-abell[0]))+np.abs((dff['DEC0']-abell[1])))].head()"
   ]
  },
  {
   "cell_type": "code",
   "execution_count": 44,
   "metadata": {},
   "outputs": [
    {
     "name": "stdout",
     "output_type": "stream",
     "text": [
      " 0.01311 -0.477 9.976 2.1e-26\n"
     ]
    },
    {
     "data": {
      "image/png": "[encoded data removed]",
      "text/plain": [
       "<Figure size 432x288 with 1 Axes>"
      ]
     },
     "metadata": {},
     "output_type": "display_data"
    }
   ],
   "source": [
    "plt.hist(dff.xc,bins=np.arange(0,1,0.01));\n",
    "print np.min(dff.xc), np.min(dff.w4), np.min(dff.k_m), np.min(dff.rad_f)"
   ]
  },
  {
   "cell_type": "markdown",
   "metadata": {},
   "source": [
    "## Combine two tables for a new total table"
   ]
  },
  {
   "cell_type": "raw",
   "metadata": {},
   "source": [
    "header_row=['index','ind','RA0','DEC0', 'SDSS','type','redshift','sep','reject','followup']\n",
    "data = pd.read_csv('/Users/taweewat/Documents/xray_project/ned-result/copy-560-v2.csv',\\\n",
    "                   names=header_row, skiprows=1,keep_default_na=False, na_values=[\"\"])\n",
    "\n",
    "data[\"redshift\"]=data[\"redshift\"].apply(func)\n",
    "#cut table\n",
    "cut=pd.concat([df, data], axis=1)\n",
    "#cut.to_csv('/Users/taweewat/Documents/xray_project/ned-result/final_cut.csv', index=False)"
   ]
  },
  {
   "cell_type": "code",
   "execution_count": 14,
   "metadata": {
    "scrolled": false
   },
   "outputs": [
    {
     "name": "stdout",
     "output_type": "stream",
     "text": [
      "(752, 60)\n"
     ]
    },
    {
     "data": {
      "text/plain": [
       "follow           303\n",
       "followed         247\n",
       "inSD/outside     124\n",
       "outSD/outside     78\n",
       "Name: followup, dtype: int64"
      ]
     },
     "execution_count": 14,
     "metadata": {},
     "output_type": "execute_result"
    }
   ],
   "source": [
    "cut=dff\n",
    "print cut.shape\n",
    "cut.head()\n",
    "cut['followup'].value_counts()"
   ]
  },
  {
   "cell_type": "markdown",
   "metadata": {},
   "source": [
    "## Plotting the results"
   ]
  },
  {
   "cell_type": "code",
   "execution_count": null,
   "metadata": {
    "scrolled": false
   },
   "outputs": [],
   "source": [
    "#plt.scatter(cut['redshift'].values,cut['xray'].values)\n",
    "#mpld3.disable_notebook()\n",
    "bins = np.linspace(-1.5, 3.5, 40)\n",
    "fig, ax = plt.subplots(1, 2, figsize=(15,6))\n",
    "q1=cut[cut['followup']=='follow']['redshift'].dropna().values\n",
    "q2=cut[cut['followup']=='followed']['redshift'].dropna().values\n",
    "q3=cut[cut['followup']=='outSD/outside']['redshift'].dropna().values\n",
    "q4=cut[cut['followup']=='inSD/outside']['redshift'].dropna().values\n",
    "\n",
    "ax[0].hist([q1,q2,q3,q4], bins=bins, stacked=True, normed = True, alpha=0.5, color=['blue','green','grey','red'],\\\n",
    "          label=['SD:no/z:in,no','SD:yes/z:in,no','SD:no/z:out','SD:yes/z:out'])\n",
    "ax[0].set_xlabel(r'$z$', size=20.)\n",
    "ax[0].legend(loc='best')\n",
    "\n",
    "a1=cut.loc[(cut['redshift']>-0.5) & (cut['followup']=='follow')].redshift.dropna().values\n",
    "a2=cut.loc[(cut['redshift']>-0.5) & (cut['followup']=='followed')].redshift.dropna().values\n",
    "a3=cut.loc[(cut['redshift']>-0.5) & (cut['followup']=='outSD/outside')].redshift.dropna().values\n",
    "a4=cut.loc[(cut['redshift']>-0.5) & (cut['followup']=='inSD/outside')].redshift.dropna().values\n",
    "ax[1].hist([a1,a2,a3,a4], bins=bins, stacked=True, normed = True, alpha=0.5, color=['blue','green','grey','red'],\\\n",
    "          label=['SD:no/z:in,no','SD:yes/z:in,no','SD:no/z:out','SD:yes/z:out'])\n",
    "ax[1].set_xlabel(r'Redshift (z)', size=20.)\n",
    "\n",
    "ax[1].legend(loc='best')\n",
    "\n",
    "plt.tight_layout()\n"
   ]
  },
  {
   "cell_type": "code",
   "execution_count": 16,
   "metadata": {},
   "outputs": [
    {
     "name": "stdout",
     "output_type": "stream",
     "text": [
      "397 749 603 599 649\n"
     ]
    }
   ],
   "source": [
    "#abell2=final.loc[(((final.loc[:,'RA']-210.258631)**2+(final.loc[:,'DEC']-2.878468)**2)**0.5).idxmin(),:]\n",
    "ngc=cut.loc[(((cut.loc[:,'RA']-49.950416)**2+(cut.loc[:,'DEC']-41.51166)**2)**0.5).idxmin(),:]\n",
    "pheo2=cut.loc[(((cut.loc[:,'RA']-356.18307)**2+(cut.loc[:,'DEC']+42.720204)**2)**0.5).idxmin(),:]\n",
    "target=cut.loc[(((cut.loc[:,'RA']-209.02268)**2+(cut.loc[:,'DEC']+34.35293)**2)**0.5).idxmin(),:]\n",
    "\n",
    "ngc_i=(((cut.loc[:,'RA']-49.950416)**2+(cut.loc[:,'DEC']-41.51166)**2)**0.5).idxmin()\n",
    "phoe_i=(((cut.loc[:,'RA']-356.18307)**2+(cut.loc[:,'DEC']+42.720204)**2)**0.5).idxmin()\n",
    "#target_i=(((cut.loc[:,'RA']-209.02268)**2+(cut.loc[:,'DEC']+34.35293)**2)**0.5).idxmin()\n",
    "\n",
    "abell_i=(((cut.loc[:,'RA']-210.258631)**2+(cut.loc[:,'DEC']-2.878468)**2)**0.5).idxmin()\n",
    "pks_i=(((cut.loc[:,'RA']-209.02208)**2+(cut.loc[:,'DEC']+34.3527777)**2)**0.5).idxmin()\n",
    "rxj_i=(((cut.loc[:,'RA']-261.8475)**2+(cut.loc[:,'DEC']-55.1813889)**2)**0.5).idxmin()\n",
    "\n",
    "print ngc_i, phoe_i, abell_i, pks_i, rxj_i"
   ]
  },
  {
   "cell_type": "code",
   "execution_count": 17,
   "metadata": {},
   "outputs": [
    {
     "name": "stdout",
     "output_type": "stream",
     "text": [
      "ra     49.9475\n",
      "dec    41.5144\n",
      "Name: 397, dtype: object\n",
      "ra     356.184\n",
      "dec   -42.7221\n",
      "Name: 749, dtype: object\n",
      "ra     210.259\n",
      "dec    2.88042\n",
      "Name: 603, dtype: object\n",
      "ra     209.021\n",
      "dec   -34.3457\n",
      "Name: 599, dtype: object\n",
      "ra     261.842\n",
      "dec    55.1804\n",
      "Name: 649, dtype: object\n"
     ]
    }
   ],
   "source": [
    "print cut.loc[ngc_i][['ra','dec']]\n",
    "print cut.loc[phoe_i][['ra','dec']]\n",
    "print cut.loc[abell_i][['ra','dec']]\n",
    "print cut.loc[pks_i][['ra','dec']]\n",
    "print cut.loc[rxj_i][['ra','dec']]"
   ]
  },
  {
   "cell_type": "code",
   "execution_count": null,
   "metadata": {},
   "outputs": [],
   "source": [
    "#mpld3.enable_notebook()\n",
    "#mpld3.disable_notebook()\n",
    "\n",
    "fig, ax = plt.subplots(1, 3, figsize=(15,7))#, sharex=\"col\", sharey=\"row\")\n",
    "fig.subplots_adjust(left=0.05, right=0.95, bottom=0.2, top=0.95,hspace=0.1, wspace=0.1)\n",
    "\n",
    "point=ax[0].scatter(cut['mir'],cut['xray'],alpha=0.5,c='lightgreen',label='Cut')\n",
    "#ax[0].scatter(abell2['mir'],abell2['xray'],alpha=1.0,c='red',label='Abell',s=40.0)\n",
    "ax[0].scatter(ngc['mir'],ngc['xray'],alpha=1.0,c='yellow',label='NGC 1275',s=40.0)\n",
    "ax[0].scatter(pheo2['mir'],pheo2['xray'],alpha=1.0,c='orange',label='Pheonix',s=40.0)\n",
    "ax[0].scatter(target['mir'],target['xray'],alpha=1.0,c='pink',label='target',s=40.0)\n",
    "ax[0].set_xlabel('MIR/NIR')\n",
    "ax[0].set_ylabel('XRay/NIR')\n",
    "ax[0].legend(loc='best')\n",
    "\n",
    "point=ax[1].scatter(ngc['mir'],ngc['radio'],alpha=1.0,c='yellow',label='NGC 1275',s=40.0)\n",
    "ax[1].scatter(pheo2['mir'],pheo2['radio'],alpha=1.0,c='orange',label='Pheonix',s=40.0)\n",
    "ax[1].scatter(target['mir'],target['radio'],alpha=1.0,c='pink',label='target',s=40.0)\n",
    "#ax[1].scatter(abell2['mir'],abell2['radio'],alpha=1.0,c='red',label='Abell',s=40.0)\n",
    "ax[1].scatter(cut['mir'],cut['radio'],alpha=0.5,c='lightgreen',label='Cut')\n",
    "ax[1].set_xlabel('MIR/NIR')\n",
    "ax[1].set_ylabel('Radio/NIR')\n",
    "\n",
    "point=ax[2].scatter(cut['xray'],cut['radio'],alpha=0.5,c='lightgreen',label='Cut')\n",
    "#ax[2].scatter(abell2['xray'],abell2['radio'],alpha=1.0,c='red',label='Abell',s=60.0)\n",
    "ax[2].scatter(ngc['xray'],ngc['radio'],alpha=1.0,c='yellow',label='NGC 1275',s=60.0)\n",
    "ax[2].scatter(pheo2['xray'],pheo2['radio'],alpha=1.0,c='orange',label='Pheonix',s=60.0)\n",
    "ax[2].scatter(target['xray'],target['radio'],alpha=1.0,c='pink',label='target',s=60.0)\n",
    "ax[2].set_xlabel('XRay/NIR')\n",
    "ax[2].set_ylabel('Radio/NIR')\n",
    "#ax[2].axis([-4.5,-2.5,0,4.5])\n",
    "plt.tight_layout()\n",
    "\n",
    "#plugins.connect(fig, plugins.LinkedBrush(point))"
   ]
  },
  {
   "cell_type": "code",
   "execution_count": 19,
   "metadata": {
    "collapsed": true
   },
   "outputs": [],
   "source": [
    "#function for SDSS column\n",
    "def type2v(x):\n",
    "    if x=='n':\n",
    "        return 1\n",
    "    elif x=='rg' or x=='rgs':\n",
    "        return 2\n",
    "    elif x=='q' or x=='qs' or x=='qg' or x=='qgs':\n",
    "        return 3\n",
    "    elif x=='s' or x=='sp':\n",
    "        return 4\n",
    "    elif x=='fail':\n",
    "        return 5\n",
    "    \n",
    "def type_redshift(x):\n",
    "    if x=='hz':\n",
    "        return 1\n",
    "    elif x=='n':\n",
    "        return 2\n",
    "    elif x=='lz':\n",
    "        return 3\n",
    "    \n",
    "def cri_redshift(x):\n",
    "#     if x==-1 or (x>=0.1 and x<=0.8):\n",
    "#         return 'not_reject'\n",
    "    if 0.<x<0.1:\n",
    "        return 'lz'\n",
    "    #only use z>0.7\n",
    "    elif x>0.7:\n",
    "        return 'hz'\n",
    "    else:\n",
    "        return 'n'"
   ]
  },
  {
   "cell_type": "code",
   "execution_count": 20,
   "metadata": {
    "scrolled": true
   },
   "outputs": [
    {
     "name": "stdout",
     "output_type": "stream",
     "text": [
      "Index([u'ra', u'dec', u'xc', u'exc', u'hr1', u'ehr1', u'hr2', u'ehr2',\n",
      "       u'dec_radio', u'df_radio', u'f_radio', u'ra_radio', u'f_radio_n',\n",
      "       u'flag', u'dist', u'ra_w', u'dec_w', u'w1', u'ew1', u'dist_w', u'w2',\n",
      "       u'ew2', u'w3', u'ew3', u'w4', u'ew4', u'ra_m', u'dec_m', u'j_m',\n",
      "       u'ej_m', u'dist_m', u'h_m', u'eh_m', u'k_m', u'ek_m', u'df_radio_n',\n",
      "       u'wi_f', u'ewi_f', u'2m_f', u'e2m_f', u'x_f', u'ex_f', u'rad_f',\n",
      "       u'erad_f', u'xray', u'mir', u'radio', u'exray', u'emir', u'eradio',\n",
      "       u'RA', u'DEC', u'redshift', u'sep', u'type', u'SDSS', u'reject',\n",
      "       u'followup', u'RA0', u'DEC0', u'rejectc'],\n",
      "      dtype='object')\n"
     ]
    },
    {
     "data": {
      "text/plain": [
       "(752, 61)"
      ]
     },
     "execution_count": 20,
     "metadata": {},
     "output_type": "execute_result"
    }
   ],
   "source": [
    "#cut[\"SDSSc\"]=cut[\"SDSS\"].apply(type2v)\n",
    "cut[\"rejectc\"]=cut[\"redshift\"].apply(cri_redshift)\n",
    "cut.loc[phoe_i]['xray']\n",
    "print cut.columns\n",
    "cut.shape"
   ]
  },
  {
   "cell_type": "code",
   "execution_count": 21,
   "metadata": {
    "scrolled": true
   },
   "outputs": [
    {
     "data": {
      "text/html": [
       "<div>\n",
       "<style scoped>\n",
       "    .dataframe tbody tr th:only-of-type {\n",
       "        vertical-align: middle;\n",
       "    }\n",
       "\n",
       "    .dataframe tbody tr th {\n",
       "        vertical-align: top;\n",
       "    }\n",
       "\n",
       "    .dataframe thead th {\n",
       "        text-align: right;\n",
       "    }\n",
       "</style>\n",
       "<table border=\"1\" class=\"dataframe\">\n",
       "  <thead>\n",
       "    <tr style=\"text-align: right;\">\n",
       "      <th></th>\n",
       "      <th>ra</th>\n",
       "      <th>dec</th>\n",
       "      <th>xc</th>\n",
       "      <th>exc</th>\n",
       "      <th>hr1</th>\n",
       "      <th>ehr1</th>\n",
       "      <th>hr2</th>\n",
       "      <th>ehr2</th>\n",
       "      <th>dec_radio</th>\n",
       "      <th>df_radio</th>\n",
       "      <th>...</th>\n",
       "      <th>DEC</th>\n",
       "      <th>redshift</th>\n",
       "      <th>sep</th>\n",
       "      <th>type</th>\n",
       "      <th>SDSS</th>\n",
       "      <th>reject</th>\n",
       "      <th>followup</th>\n",
       "      <th>RA0</th>\n",
       "      <th>DEC0</th>\n",
       "      <th>rejectc</th>\n",
       "    </tr>\n",
       "  </thead>\n",
       "  <tbody>\n",
       "    <tr>\n",
       "      <th>0</th>\n",
       "      <td>133.04916</td>\n",
       "      <td>76.45306</td>\n",
       "      <td>0.03920</td>\n",
       "      <td>0.011130</td>\n",
       "      <td>0.21</td>\n",
       "      <td>0.26</td>\n",
       "      <td>0.00</td>\n",
       "      <td>0.33</td>\n",
       "      <td>76.455056</td>\n",
       "      <td>6.5</td>\n",
       "      <td>...</td>\n",
       "      <td>76.454058</td>\n",
       "      <td>1.127</td>\n",
       "      <td>3.6</td>\n",
       "      <td>G</td>\n",
       "      <td>no</td>\n",
       "      <td>reject</td>\n",
       "      <td>outSD/outside</td>\n",
       "      <td>133.049330</td>\n",
       "      <td>76.454058</td>\n",
       "      <td>hz</td>\n",
       "    </tr>\n",
       "    <tr>\n",
       "      <th>1</th>\n",
       "      <td>34.37958</td>\n",
       "      <td>73.82569</td>\n",
       "      <td>0.03880</td>\n",
       "      <td>0.008869</td>\n",
       "      <td>1.00</td>\n",
       "      <td>0.21</td>\n",
       "      <td>0.60</td>\n",
       "      <td>0.16</td>\n",
       "      <td>73.825639</td>\n",
       "      <td>68.1</td>\n",
       "      <td>...</td>\n",
       "      <td>73.825664</td>\n",
       "      <td>2.367</td>\n",
       "      <td>0.8</td>\n",
       "      <td>QSO</td>\n",
       "      <td>yes</td>\n",
       "      <td>reject</td>\n",
       "      <td>inSD/outside</td>\n",
       "      <td>34.379123</td>\n",
       "      <td>73.825664</td>\n",
       "      <td>hz</td>\n",
       "    </tr>\n",
       "    <tr>\n",
       "      <th>2</th>\n",
       "      <td>137.11916</td>\n",
       "      <td>72.27611</td>\n",
       "      <td>0.03119</td>\n",
       "      <td>0.010460</td>\n",
       "      <td>0.13</td>\n",
       "      <td>0.35</td>\n",
       "      <td>0.31</td>\n",
       "      <td>0.39</td>\n",
       "      <td>72.274694</td>\n",
       "      <td>9.5</td>\n",
       "      <td>...</td>\n",
       "      <td>72.275402</td>\n",
       "      <td>-1.000</td>\n",
       "      <td>-1.0</td>\n",
       "      <td>NaN</td>\n",
       "      <td>no</td>\n",
       "      <td>not_reject</td>\n",
       "      <td>follow</td>\n",
       "      <td>137.121913</td>\n",
       "      <td>72.275402</td>\n",
       "      <td>n</td>\n",
       "    </tr>\n",
       "    <tr>\n",
       "      <th>3</th>\n",
       "      <td>156.65541</td>\n",
       "      <td>70.54361</td>\n",
       "      <td>0.03453</td>\n",
       "      <td>0.012260</td>\n",
       "      <td>0.01</td>\n",
       "      <td>0.36</td>\n",
       "      <td>-0.79</td>\n",
       "      <td>0.78</td>\n",
       "      <td>70.545333</td>\n",
       "      <td>4.1</td>\n",
       "      <td>...</td>\n",
       "      <td>70.544472</td>\n",
       "      <td>-1.000</td>\n",
       "      <td>-1.0</td>\n",
       "      <td>NaN</td>\n",
       "      <td>no</td>\n",
       "      <td>not_reject</td>\n",
       "      <td>follow</td>\n",
       "      <td>156.653913</td>\n",
       "      <td>70.544472</td>\n",
       "      <td>n</td>\n",
       "    </tr>\n",
       "    <tr>\n",
       "      <th>4</th>\n",
       "      <td>114.08708</td>\n",
       "      <td>65.22320</td>\n",
       "      <td>0.02377</td>\n",
       "      <td>0.010900</td>\n",
       "      <td>0.69</td>\n",
       "      <td>0.35</td>\n",
       "      <td>0.93</td>\n",
       "      <td>1.13</td>\n",
       "      <td>65.220833</td>\n",
       "      <td>3.0</td>\n",
       "      <td>...</td>\n",
       "      <td>65.222017</td>\n",
       "      <td>3.035</td>\n",
       "      <td>7.3</td>\n",
       "      <td>QSO</td>\n",
       "      <td>yes</td>\n",
       "      <td>reject</td>\n",
       "      <td>inSD/outside</td>\n",
       "      <td>114.088957</td>\n",
       "      <td>65.222017</td>\n",
       "      <td>hz</td>\n",
       "    </tr>\n",
       "  </tbody>\n",
       "</table>\n",
       "<p>5 rows × 61 columns</p>\n",
       "</div>"
      ],
      "text/plain": [
       "          ra       dec       xc       exc   hr1  ehr1   hr2  ehr2  dec_radio  \\\n",
       "0  133.04916  76.45306  0.03920  0.011130  0.21  0.26  0.00  0.33  76.455056   \n",
       "1   34.37958  73.82569  0.03880  0.008869  1.00  0.21  0.60  0.16  73.825639   \n",
       "2  137.11916  72.27611  0.03119  0.010460  0.13  0.35  0.31  0.39  72.274694   \n",
       "3  156.65541  70.54361  0.03453  0.012260  0.01  0.36 -0.79  0.78  70.545333   \n",
       "4  114.08708  65.22320  0.02377  0.010900  0.69  0.35  0.93  1.13  65.220833   \n",
       "\n",
       "   df_radio   ...           DEC  redshift  sep    type  SDSS      reject  \\\n",
       "0       6.5   ...     76.454058     1.127  3.6  G         no      reject   \n",
       "1      68.1   ...     73.825664     2.367  0.8  QSO      yes      reject   \n",
       "2       9.5   ...     72.275402    -1.000 -1.0     NaN    no  not_reject   \n",
       "3       4.1   ...     70.544472    -1.000 -1.0     NaN    no  not_reject   \n",
       "4       3.0   ...     65.222017     3.035  7.3  QSO      yes      reject   \n",
       "\n",
       "        followup         RA0       DEC0  rejectc  \n",
       "0  outSD/outside  133.049330  76.454058       hz  \n",
       "1   inSD/outside   34.379123  73.825664       hz  \n",
       "2         follow  137.121913  72.275402        n  \n",
       "3         follow  156.653913  70.544472        n  \n",
       "4   inSD/outside  114.088957  65.222017       hz  \n",
       "\n",
       "[5 rows x 61 columns]"
      ]
     },
     "execution_count": 21,
     "metadata": {},
     "output_type": "execute_result"
    }
   ],
   "source": [
    "cut.head()"
   ]
  },
  {
   "cell_type": "code",
   "execution_count": 22,
   "metadata": {},
   "outputs": [
    {
     "data": {
      "text/plain": [
       "<matplotlib.collections.PathCollection at 0x1112e6c90>"
      ]
     },
     "execution_count": 22,
     "metadata": {},
     "output_type": "execute_result"
    },
    {
     "data": {
      "image/png": "[encoded data removed]",
      "text/plain": [
       "<Figure size 432x288 with 1 Axes>"
      ]
     },
     "metadata": {},
     "output_type": "display_data"
    }
   ],
   "source": [
    "cut[\"col-dist-phoe\"]=np.sqrt((cut[\"xray\"]-cut.loc[phoe_i]['xray'])**2+(cut[\"mir\"]-cut.loc[phoe_i]['mir'])**2+(cut[\"radio\"]-cut.loc[phoe_i]['radio'])**2)\n",
    "\n",
    "plt.scatter(cut[cut.followup=='follow'][\"xray\"],cut[cut.followup=='follow'][\"mir\"],alpha=1.,c=cut[cut.followup=='follow'][\"col-dist-phoe\"],label='dot',s=40.,cmap='spring')"
   ]
  },
  {
   "cell_type": "code",
   "execution_count": 23,
   "metadata": {
    "scrolled": false
   },
   "outputs": [
    {
     "data": {
      "text/html": [
       "<div>\n",
       "<style scoped>\n",
       "    .dataframe tbody tr th:only-of-type {\n",
       "        vertical-align: middle;\n",
       "    }\n",
       "\n",
       "    .dataframe tbody tr th {\n",
       "        vertical-align: top;\n",
       "    }\n",
       "\n",
       "    .dataframe thead th {\n",
       "        text-align: right;\n",
       "    }\n",
       "</style>\n",
       "<table border=\"1\" class=\"dataframe\">\n",
       "  <thead>\n",
       "    <tr style=\"text-align: right;\">\n",
       "      <th></th>\n",
       "      <th>RA</th>\n",
       "      <th>DEC</th>\n",
       "      <th>type</th>\n",
       "      <th>col-dist-phoe</th>\n",
       "      <th>redshift</th>\n",
       "      <th>xray</th>\n",
       "      <th>mir</th>\n",
       "      <th>radio</th>\n",
       "    </tr>\n",
       "  </thead>\n",
       "  <tbody>\n",
       "    <tr>\n",
       "      <th>749</th>\n",
       "      <td>356.183104</td>\n",
       "      <td>-42.721290</td>\n",
       "      <td>G</td>\n",
       "      <td>0.000000</td>\n",
       "      <td>0.597320</td>\n",
       "      <td>-3.337123</td>\n",
       "      <td>2.028896</td>\n",
       "      <td>1.696004</td>\n",
       "    </tr>\n",
       "    <tr>\n",
       "      <th>408</th>\n",
       "      <td>63.850003</td>\n",
       "      <td>-23.375820</td>\n",
       "      <td>G</td>\n",
       "      <td>0.482923</td>\n",
       "      <td>0.616300</td>\n",
       "      <td>-3.673911</td>\n",
       "      <td>1.684496</td>\n",
       "      <td>1.661692</td>\n",
       "    </tr>\n",
       "    <tr>\n",
       "      <th>442</th>\n",
       "      <td>109.286231</td>\n",
       "      <td>22.440459</td>\n",
       "      <td>NaN</td>\n",
       "      <td>0.485024</td>\n",
       "      <td>-1.000000</td>\n",
       "      <td>-3.529095</td>\n",
       "      <td>2.167696</td>\n",
       "      <td>1.272768</td>\n",
       "    </tr>\n",
       "    <tr>\n",
       "      <th>596</th>\n",
       "      <td>208.423646</td>\n",
       "      <td>43.182137</td>\n",
       "      <td>QSO</td>\n",
       "      <td>0.524457</td>\n",
       "      <td>1.115869</td>\n",
       "      <td>-3.620852</td>\n",
       "      <td>1.592896</td>\n",
       "      <td>1.629241</td>\n",
       "    </tr>\n",
       "    <tr>\n",
       "      <th>197</th>\n",
       "      <td>32.147314</td>\n",
       "      <td>-17.661653</td>\n",
       "      <td>G</td>\n",
       "      <td>0.565935</td>\n",
       "      <td>0.129000</td>\n",
       "      <td>-3.861813</td>\n",
       "      <td>2.102896</td>\n",
       "      <td>1.894766</td>\n",
       "    </tr>\n",
       "  </tbody>\n",
       "</table>\n",
       "</div>"
      ],
      "text/plain": [
       "             RA        DEC    type  col-dist-phoe  redshift      xray  \\\n",
       "749  356.183104 -42.721290  G            0.000000  0.597320 -3.337123   \n",
       "408   63.850003 -23.375820  G            0.482923  0.616300 -3.673911   \n",
       "442  109.286231  22.440459     NaN       0.485024 -1.000000 -3.529095   \n",
       "596  208.423646  43.182137  QSO          0.524457  1.115869 -3.620852   \n",
       "197   32.147314 -17.661653  G            0.565935  0.129000 -3.861813   \n",
       "\n",
       "          mir     radio  \n",
       "749  2.028896  1.696004  \n",
       "408  1.684496  1.661692  \n",
       "442  2.167696  1.272768  \n",
       "596  1.592896  1.629241  \n",
       "197  2.102896  1.894766  "
      ]
     },
     "execution_count": 23,
     "metadata": {},
     "output_type": "execute_result"
    }
   ],
   "source": [
    "dff=cut[cut.followup=='follow'].sort_values(\"col-dist-phoe\")[[\"RA\",\"DEC\",\"type\",\"col-dist-phoe\",'redshift','xray','mir','radio']]\n",
    "#dff\n",
    "#dff.to_csv(\"/Users/taweewat/Documents/xray_project/result/sorted_candidate.csv\")\n",
    "dff2=cut.sort_values(\"col-dist-phoe\")[[\"RA\",\"DEC\",\"type\",\"col-dist-phoe\",'redshift','xray','mir','radio']]\n",
    "dff2.head()\n",
    "#dff2.to_csv(\"/Users/taweewat/Documents/xray_project/result/sorted_candidate_all.csv\")"
   ]
  },
  {
   "cell_type": "code",
   "execution_count": null,
   "metadata": {
    "scrolled": true
   },
   "outputs": [],
   "source": [
    "fig, ax = plt.subplots(2, 3, figsize=(15,10))#, sharex=\"col\", sharey=\"row\")\n",
    "fig.subplots_adjust(left=0.05, right=0.95, bottom=0.2, top=0.95,hspace=0.1, wspace=0.1)\n",
    "\n",
    "colors=['lightgreen','red','lightblue','brown','yellow','orange','pink']\n",
    "labels=['No','gal','qso','near','NGC 1275','Phoenix','target']\n",
    "indi=[ngc_i,phoe_i,target_i]\n",
    "\n",
    "def plot_s(x,y,n,m,other=False):\n",
    "    for i in range(1,8):\n",
    "        if i==1 & other==True:\n",
    "            pass\n",
    "        elif i<5:\n",
    "            ax[n,m].scatter(cut[cut.SDSSc==i][x],cut[cut.SDSSc==i][y],alpha=0.5,c=colors[i-1],label=labels[i-1],\\\n",
    "                            s=60.)\n",
    "        elif i>=5:\n",
    "            ax[n,m].scatter(cut.loc[indi[i-5],x],cut.loc[indi[i-5],y],alpha=1.,c=colors[i-1],label=labels[i-1],\\\n",
    "                            s=100,marker='s')\n",
    "    ax[n,m].legend(loc='best')\n",
    "    ax[n,m].set_xlabel(x+'/nir')\n",
    "    ax[n,m].set_ylabel(y+'/nir')\n",
    "    return \n",
    "\n",
    "point=plot_s('xray','radio',0,0)           \n",
    "plot_s('mir','radio',0,1)           \n",
    "plot_s('mir','xray',0,2)\n",
    "plot_s('xray','radio',1,0,other=True)   \n",
    "plot_s('mir','radio',1,1,other=True)           \n",
    "plot_s('mir','xray',1,2,other=True)\n",
    "\n",
    "ax[0,0].axis([-4.2,-1.5,0,5])\n",
    "ax[1,0].axis([-4.2,-1.5,0,5])\n",
    "ax[0,2].axis([0.5,4.5,-4.2,-1.5])\n",
    "ax[1,2].axis([0.5,4.5,-4.2,-1.5])\n",
    "\n",
    "\n",
    "plt.tight_layout()\n",
    "plugins.connect(fig, plugins.LinkedBrush(point))"
   ]
  },
  {
   "cell_type": "code",
   "execution_count": null,
   "metadata": {},
   "outputs": [],
   "source": [
    "cut.head()"
   ]
  },
  {
   "cell_type": "markdown",
   "metadata": {},
   "source": [
    "### Main one for plotting the main figure"
   ]
  },
  {
   "cell_type": "code",
   "execution_count": 24,
   "metadata": {},
   "outputs": [
    {
     "data": {
      "image/png": "[encoded data removed]",
      "text/plain": [
       "<Figure size 1296x432 with 3 Axes>"
      ]
     },
     "metadata": {},
     "output_type": "display_data"
    }
   ],
   "source": [
    "fig, ax = plt.subplots(1, 3, figsize=(18,6))#, sharex=\"col\", sharey=\"row\")\n",
    "fig.subplots_adjust(left=0.05, right=0.95, bottom=0.2, top=0.95,hspace=0.1, wspace=0.1)\n",
    "\n",
    "colors=['#e78ac3','#e78ac3','#e78ac3','#1b9e77','#d95f02','#66a61e','#e3d400']#,'#4868db']\n",
    "labels=['background','candidates','foreground','Abell 1835','NGC 1275','Phoenix','PKS1353-341']#,'RXJ1727.3+5510']\n",
    "markers=['+','o','x']\n",
    "#indi=[ngc_i,phoe_i,target_i]\n",
    "indi=[abell_i,ngc_i,phoe_i,pks_i]#,rxj_i]\n",
    "redshift_type=['hz','n','lz']\n",
    "\n",
    "def plot_s(x,y,n,other=False):\n",
    "    for i in range(1,9):\n",
    "        if other==True:\n",
    "            pass\n",
    "        elif i==1 or i==3:\n",
    "            ax[n].scatter(cut[cut.rejectc==redshift_type[i-1]][x],cut[cut.rejectc==redshift_type[i-1]][y],alpha=0.8,\\\n",
    "                          c=colors[i-1],label=labels[i-1],s=80.,linewidth=2,marker=markers[i-1])\n",
    "        elif i==2:\n",
    "            pass\n",
    "            ax[n].scatter(cut[cut.rejectc==redshift_type[i-1]][x],cut[cut.rejectc==redshift_type[i-1]][y],alpha=1.,\\\n",
    "                          c=colors[i-1],label=labels[i-1],s=40.,marker=markers[i-1],edgecolor='k')\n",
    "        elif i>=4 and i<7:\n",
    "            ax[n].scatter(cut.loc[indi[i-4],x],cut.loc[indi[i-4],y],alpha=1.,c=colors[i-1],label=labels[i-1],\\\n",
    "                            s=100,marker='s')\n",
    "        elif i==7:\n",
    "            ax[n].scatter(cut.loc[indi[i-4],x],cut.loc[indi[i-4],y],alpha=1.,c=colors[i-1],label=labels[i-1],\\\n",
    "                            s=120,marker='^')\n",
    "    #ax[n].legend(loc='best')\n",
    "    ax[n].set_xlabel(x+'/NIR')\n",
    "    ax[n].set_ylabel(y+'/NIR')\n",
    "    return \n",
    "\n",
    "point=plot_s('xray','radio',2)           \n",
    "plot_s('mir','radio',1)           \n",
    "plot_s('mir','xray',0)\n",
    "#plot_s('xray','radio',1,0,other=True)   \n",
    "#plot_s('mir','radio',1,1,other=True)           \n",
    "#plot_s('mir','xray',1,2,other=True)\n",
    "\n",
    "ax[0].legend(loc='best')\n",
    "ax[0].set_xlabel('MIR/NIR')\n",
    "ax[1].set_xlabel('MIR/NIR')\n",
    "ax[2].set_xlabel('XRay/NIR')\n",
    "ax[0].set_ylabel('XRay/NIR')\n",
    "ax[1].set_ylabel('Radio/NIR')\n",
    "ax[2].set_ylabel('Radio/NIR')\n",
    "\n",
    "ax[2].axis([-4.2,-1.5,0,4.5])\n",
    "#ax[1,0].axis([-4.2,-1.5,0,5])\n",
    "ax[0].axis([0.5,4.5,-4.2,-1.5])\n",
    "ax[1].axis([0.5,4.5,0,4.5])\n",
    "#ax[1,2].axis([0.5,4.5,-4.2,-1.5])\n",
    "\n",
    "ax[0].axvline(cut.loc[phoe_i,'mir']-np.log10(1.9*5))\n",
    "ax[0].axvline(cut.loc[phoe_i,'mir']-np.log10(2.5*5))\n",
    "ax[0].axvline(cut.loc[phoe_i,'mir']-np.log10(2.8*5))\n",
    "ax[0].axhline(cut.loc[phoe_i,'xray']-np.log10(1.9))\n",
    "ax[0].axhline(cut.loc[phoe_i,'xray']-np.log10(2.5))\n",
    "ax[0].axhline(cut.loc[phoe_i,'xray']-np.log10(2.8))\n",
    "\n",
    "ax[1].axvline(cut.loc[phoe_i,'mir']-np.log10(1.9*5))\n",
    "ax[1].axvline(cut.loc[phoe_i,'mir']-np.log10(2.5*5))\n",
    "ax[1].axvline(cut.loc[phoe_i,'mir']-np.log10(2.8*5))\n",
    "ax[1].axhline(cut.loc[phoe_i,'radio']-np.log10(1.9*3))\n",
    "ax[1].axhline(cut.loc[phoe_i,'radio']-np.log10(2.5*3))\n",
    "ax[1].axhline(cut.loc[phoe_i,'radio']-np.log10(2.8*3))\n",
    "\n",
    "ax[2].axvline(cut.loc[phoe_i,'xray']-np.log10(1.9))\n",
    "ax[2].axvline(cut.loc[phoe_i,'xray']-np.log10(2.5))\n",
    "ax[2].axvline(cut.loc[phoe_i,'xray']-np.log10(2.8))\n",
    "ax[2].axhline(cut.loc[phoe_i,'radio']-np.log10(1.9*3))\n",
    "ax[2].axhline(cut.loc[phoe_i,'radio']-np.log10(2.5*3))\n",
    "ax[2].axhline(cut.loc[phoe_i,'radio']-np.log10(2.8*3))\n",
    "\n",
    "plt.tight_layout()\n",
    "#plugins.connect(fig, plugins.LinkedBrush(point))\n",
    "\n",
    "#plt.savefig('/Users/taweewat/Documents/chandra/figure/560_object_1.pdf', bbox_inches='tight')"
   ]
  },
  {
   "cell_type": "code",
   "execution_count": null,
   "metadata": {},
   "outputs": [],
   "source": [
    "phoe_i"
   ]
  },
  {
   "cell_type": "code",
   "execution_count": 27,
   "metadata": {
    "scrolled": false
   },
   "outputs": [
    {
     "data": {
      "image/png": "[encoded data removed]",
      "text/plain": [
       "<Figure size 864x360 with 3 Axes>"
      ]
     },
     "metadata": {},
     "output_type": "display_data"
    }
   ],
   "source": [
    "#mpld3.enable_notebook()\n",
    "# mpld3.disable_notebook()\n",
    "\n",
    "fig, ax = plt.subplots(1, 3, figsize=(12,5))#, sharex=\"col\", sharey=\"row\")\n",
    "fig.subplots_adjust(left=0.05, right=0.95, bottom=0.05, top=0.95, hspace=0.1, wspace=0.1)\n",
    "\n",
    "point=ax[0].scatter(cut['xray'],cut['radio'],alpha=0.5,c='lightgreen',label='No',s=60.)\n",
    "point=ax[1].scatter(cut['mir'],cut['radio'],alpha=0.5,c='lightgreen',label='No',s=60.)\n",
    "point=ax[2].scatter(cut['mir'],cut['xray'],alpha=0.5,c='lightgreen',label='No',s=60.)\n",
    "\n",
    "plt.tight_layout()\n",
    "\n",
    "# labels = ['point {0}'.format(i + 1) for i in range(len(cut['RA']))]\n",
    "# tooltip = mpld3.plugins.PointLabelTooltip(point, labels=labels)\n",
    "# plugins.connect(fig, tooltip)\n",
    "#plugins.connect(fig, plugins.LinkedBrush(point))"
   ]
  },
  {
   "cell_type": "code",
   "execution_count": 28,
   "metadata": {
    "collapsed": true
   },
   "outputs": [
    {
     "ename": "NameError",
     "evalue": "name 'final' is not defined",
     "output_type": "error",
     "traceback": [
      "\u001b[0;31m---------------------------------------------------------------------------\u001b[0m",
      "\u001b[0;31mNameError\u001b[0m                                 Traceback (most recent call last)",
      "\u001b[0;32m<ipython-input-28-9e68c78a5d53>\u001b[0m in \u001b[0;36m<module>\u001b[0;34m()\u001b[0m\n\u001b[1;32m      3\u001b[0m \u001b[0;32mimport\u001b[0m \u001b[0mastropy\u001b[0m\u001b[0;34m.\u001b[0m\u001b[0munits\u001b[0m \u001b[0;32mas\u001b[0m \u001b[0mu\u001b[0m\u001b[0;34m\u001b[0m\u001b[0m\n\u001b[1;32m      4\u001b[0m \u001b[0;34m\u001b[0m\u001b[0m\n\u001b[0;32m----> 5\u001b[0;31m \u001b[0mx\u001b[0m\u001b[0;34m=\u001b[0m\u001b[0mfinal\u001b[0m\u001b[0;34m[\u001b[0m\u001b[0mfinal\u001b[0m\u001b[0;34m[\u001b[0m\u001b[0;34m'SDSS'\u001b[0m\u001b[0;34m]\u001b[0m\u001b[0;34m!=\u001b[0m\u001b[0;34m'n'\u001b[0m\u001b[0;34m]\u001b[0m\u001b[0;34m\u001b[0m\u001b[0m\n\u001b[0m\u001b[1;32m      6\u001b[0m \u001b[0;31m#x=final\u001b[0m\u001b[0;34m\u001b[0m\u001b[0;34m\u001b[0m\u001b[0m\n\u001b[1;32m      7\u001b[0m \u001b[0;34m\u001b[0m\u001b[0m\n",
      "\u001b[0;31mNameError\u001b[0m: name 'final' is not defined"
     ]
    }
   ],
   "source": [
    "# mpld3.disable_notebook()\n",
    "import astropy.coordinates as coord\n",
    "import astropy.units as u\n",
    "\n",
    "x=final[final['SDSS']!='n']\n",
    "#x=final\n",
    "\n",
    "ra = coord.Angle(x['RA']*u.degree)\n",
    "ra = ra.wrap_at(180*u.degree)\n",
    "dec = coord.Angle(x['DEC']*u.degree)\n",
    "\n",
    "fig = plt.figure(figsize=(12,10))\n",
    "ax = fig.add_subplot(111, projection=\"mollweide\")\n",
    "ax.scatter(ra.radian, dec.radian,c='lightgreen',alpha=0.7,s=50)\n",
    "ax.set_xticklabels(['14h','16h','18h','20h','22h','0h','2h','4h','6h','8h','10h'])\n",
    "ax.grid(True)"
   ]
  },
  {
   "cell_type": "code",
   "execution_count": null,
   "metadata": {},
   "outputs": [],
   "source": [
    "x = cut['followup'].value_counts()\n",
    "plt.bar(range(len(x)), x.values, align='center')\n",
    "plt.xticks(range(len(x)), x.index.values, size='large')"
   ]
  },
  {
   "cell_type": "code",
   "execution_count": null,
   "metadata": {
    "scrolled": false
   },
   "outputs": [],
   "source": [
    "fig = plt.subplots(figsize=(6,6))\n",
    "x = cut['followup'].value_counts()\n",
    "head=['To Follow up','SDSS','Foreground/\\nBackground']\n",
    "value=[x.values[0],x.values[1],x.values[2]+x.values[3]]\n",
    "print value\n",
    "\n",
    "plt.bar(range(len(head)), value, align='center', color=['#e78ac3','#1b9e77','#7570b3'])\n",
    "plt.xticks(range(len(head)), head, size='medium')\n",
    "for i in range(len(head)):\n",
    "    plt.text(i-0.15,value[i]+10,value[i],color='#DF763B',family='sans-serif',weight='bold')\n",
    "\n",
    "#plt.savefig('/Users/taweewat/Dropbox/Documents/MIT/Poster/bar.png', bbox_inches='tight')\n",
    "\n",
    "\n",
    "#plt.savefig('/Users/taweewat/Documents/chandra/figure/barchart.pdf', bbox_inches='tight')"
   ]
  },
  {
   "cell_type": "code",
   "execution_count": null,
   "metadata": {},
   "outputs": [],
   "source": [
    "dfc=cut[cut['followup']=='follow']\n",
    "\n",
    "plt.hist(np.sqrt((dfc['RA']-dfc['ra_w'])**2+(dfc['DEC']-dfc['dec_w'])**2)*3600, bins=[0,10,20,30,40])"
   ]
  },
  {
   "cell_type": "code",
   "execution_count": null,
   "metadata": {},
   "outputs": [],
   "source": [
    "np.sum(cut['redshift']!=-1.)"
   ]
  },
  {
   "cell_type": "code",
   "execution_count": null,
   "metadata": {},
   "outputs": [],
   "source": [
    "cut"
   ]
  },
  {
   "cell_type": "code",
   "execution_count": null,
   "metadata": {
    "collapsed": true
   },
   "outputs": [],
   "source": []
  }
 ],
 "metadata": {
  "anaconda-cloud": {},
  "kernelspec": {
   "display_name": "Python 2",
   "language": "python",
   "name": "python2"
  },
  "language_info": {
   "codemirror_mode": {
    "name": "ipython",
    "version": 2
   },
   "file_extension": ".py",
   "mimetype": "text/x-python",
   "name": "python",
   "nbconvert_exporter": "python",
   "pygments_lexer": "ipython2",
   "version": "2.7.15"
  }
 },
 "nbformat": 4,
 "nbformat_minor": 2
}
