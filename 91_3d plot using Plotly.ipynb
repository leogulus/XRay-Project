{
 "cells": [
  {
   "cell_type": "markdown",
   "metadata": {},
   "source": [
    "## Data Visualization\n",
    "* http://bokeh.pydata.org/\n",
    "* Plotly"
   ]
  },
  {
   "cell_type": "code",
   "execution_count": 1,
   "metadata": {
    "collapsed": true
   },
   "outputs": [],
   "source": [
    "import matplotlib.pyplot as plt\n",
    "from mpl_toolkits.mplot3d import Axes3D\n",
    "fig = plt.figure()\n",
    "ax = fig.add_subplot(111, projection='3d')"
   ]
  },
  {
   "cell_type": "code",
   "execution_count": 2,
   "metadata": {
    "collapsed": false
   },
   "outputs": [
    {
     "data": {
      "text/html": [
       "<iframe id=\"igraph\" scrolling=\"no\" style=\"border:none;\"seamless=\"seamless\" src=\"https://plot.ly/~leogulus/461.embed\" height=\"525px\" width=\"100%\"></iframe>"
      ],
      "text/plain": [
       "<plotly.tools.PlotlyDisplay object>"
      ]
     },
     "execution_count": 2,
     "metadata": {},
     "output_type": "execute_result"
    }
   ],
   "source": [
    "import plotly.plotly as py\n",
    "from plotly.graph_objs import *\n",
    "\n",
    "trace0 = Scatter(\n",
    "  x=[1, 2, 3, 4],\n",
    "  y=[10, 15, 13, 17]\n",
    ")\n",
    "trace1 = Scatter(\n",
    "  x=[1, 2, 3, 4],\n",
    "  y=[16, 5, 11, 9]\n",
    ")\n",
    "data = Data([trace0, trace1])\n",
    "\n",
    "py.iplot(data, filename = 'basic-line')"
   ]
  },
  {
   "cell_type": "code",
   "execution_count": 2,
   "metadata": {
    "collapsed": false
   },
   "outputs": [
    {
     "data": {
      "text/html": [
       "<iframe id=\"igraph\" scrolling=\"no\" style=\"border:none;\"seamless=\"seamless\" src=\"https://plot.ly/~leogulus/463.embed\" height=\"525px\" width=\"100%\"></iframe>"
      ],
      "text/plain": [
       "<plotly.tools.PlotlyDisplay object>"
      ]
     },
     "execution_count": 2,
     "metadata": {},
     "output_type": "execute_result"
    }
   ],
   "source": [
    "import matplotlib.pyplot as plt\n",
    "import numpy as np\n",
    "import plotly.plotly as py\n",
    "\n",
    "n = 50\n",
    "x, y, z, s, ew = np.random.rand(5, n)\n",
    "c, ec = np.random.rand(2, n, 4)\n",
    "area_scale, width_scale = 500, 5\n",
    "\n",
    "fig, ax = plt.subplots()\n",
    "sc = ax.scatter(x, y, c=c,\n",
    "                s=np.square(s)*area_scale,\n",
    "                edgecolor=ec,\n",
    "                linewidth=ew*width_scale)\n",
    "ax.grid()\n",
    "\n",
    "py.iplot_mpl(fig)"
   ]
  },
  {
   "cell_type": "code",
   "execution_count": 13,
   "metadata": {
    "collapsed": false
   },
   "outputs": [
    {
     "name": "stdout",
     "output_type": "stream",
     "text": [
      "[[10, 10, 4, 3, 2, 10, 10, 10, 10, 10], [10, 5, 1, 6, 3, 7, 8, 4, 2, 10], [10, 4, 10, 7, 6, 5, 1, 2, 3, 10], [10, 1, 2, 10, 10, 10, 3, 6, 5, 4], [10, 10, 5, 10, 10, 2, 7, 8, 10, 3], [2, 3, 6, 10, 10, 1, 10, 7, 4, 5], [3, 6, 7, 10, 10, 4, 2, 5, 10, 10], [4, 2, 10, 10, 10, 10, 10, 3, 10, 10], [10, 8, 3, 5, 7, 6, 4, 1, 10, 10], [10, 10, 8, 2, 10, 10, 10, 10, 10, 10]]\n",
      "10\n",
      "10\n",
      "10\n",
      "10\n",
      "10\n",
      "10\n",
      "10\n",
      "10\n",
      "10\n",
      "10\n"
     ]
    }
   ],
   "source": [
    "x=[1]*10\n",
    "for i in range(9):\n",
    "    x=x+([i+2]*10)\n",
    "\n",
    "y=[1,2,3,4,5,6,7,8,9,10]*10\n",
    "\n",
    "#print x, y\n",
    "\n",
    "z=[[10]*2+[4,3,2]+[10]*5]+[[10,5,1,6,3,7,8,4,2,10]]+[[10,4,10,7,6,5,1,2,3,10]]+[[10,1,2]+[10]*3+[3,6,5,4]]+\\\n",
    "[[10]*2+[5]+[10]*2+[2,7,8,10,3]]+[[2,3,6,10,10,1,10,7,4,5]]+[[3,6,7,10,10,4,2,5,10,10]]+[[4,2]+[10]*5+[3]+[10]*2]+\\\n",
    "[[10,8,3,5,7,6,4,1]+[10]*2]+[[10,10,8,2]+[10]*6]\n",
    "print z\n",
    "for i in range(10):\n",
    "    print len(z[i])"
   ]
  },
  {
   "cell_type": "code",
   "execution_count": 14,
   "metadata": {
    "collapsed": false
   },
   "outputs": [
    {
     "data": {
      "text/html": [
       "<iframe id=\"igraph\" scrolling=\"no\" style=\"border:none;\"seamless=\"seamless\" src=\"https://plot.ly/~leogulus/465.embed\" height=\"500px\" width=\"500px\"></iframe>"
      ],
      "text/plain": [
       "<plotly.tools.PlotlyDisplay object>"
      ]
     },
     "execution_count": 14,
     "metadata": {},
     "output_type": "execute_result"
    }
   ],
   "source": [
    "import plotly.plotly as py\n",
    "import plotly.graph_objs as go\n",
    "\n",
    "data = [\n",
    "    go.Surface(\n",
    "        z=z\n",
    "    )\n",
    "]\n",
    "layout = go.Layout(\n",
    "    title='notaplanet',\n",
    "    autosize=False,\n",
    "    width=500,\n",
    "    height=500,\n",
    "    margin=dict(\n",
    "        l=65,\n",
    "        r=50,\n",
    "        b=65,\n",
    "        t=90\n",
    "    )\n",
    ")\n",
    "fig = go.Figure(data=data, layout=layout)\n",
    "py.iplot(fig)"
   ]
  },
  {
   "cell_type": "code",
   "execution_count": null,
   "metadata": {
    "collapsed": true
   },
   "outputs": [],
   "source": [
    "import plotly.plotly as py\n",
    "from plotly.graph_objs import *\n",
    "\n",
    "xt='mir'\n",
    "yt='radio'\n",
    "ext='emir'\n",
    "eyt='eradio'\n",
    "\n",
    "trace3 = Scatter(\n",
    "    x=pheo2[xt],  # x coords\n",
    "    y=pheo2[yt],  # y coords\n",
    "    mode='markers',\n",
    "    name='Pheonix',\n",
    "    marker=Marker(color='blue',symbol='dot',size=12,opacity=1.0)\n",
    ")\n",
    "\n",
    "trace4 = Scatter(\n",
    "    x=cut[xt],  # x coords\n",
    "    y=cut[yt],  # y coords\n",
    "    #z=cut['xray'],  # z coords\n",
    "    mode='markers',\n",
    "    name='Cut',\n",
    "    marker=Marker(color=cut['inside'],symbol='diamond',size=8,opacity=0.8,\\\n",
    "                  colorscale='Reds',showscale=True,cmax=cut['inside'].max()),\n",
    "    error_x=dict(type='data',array=cut[ext],symmetric=True),\n",
    "    error_y=dict(type='data',array=cut[eyt],symmetric=True)\n",
    ")\n",
    "\n",
    "\n",
    "layout = Layout(\n",
    "    title='Plot of MIR, Radio',\n",
    "   #shapes=dict(type='circle',xref='x',yref='y',opacity=0.3,x0=0,y0=0,\\\n",
    "    #           x1=2,y1=2),\n",
    "    scene=Scene(\n",
    "        xaxis=XAxis(title='MIR/NIR'),\n",
    "        yaxis=YAxis(title='Radio/NIR'))\n",
    ")\n",
    "\n",
    "layout = {\n",
    "    'shapes': [\n",
    "        {\n",
    "            'opacity': 0.3,\n",
    "            'xref': 'x',\n",
    "            'yref': 'y',\n",
    "            'fillcolor': 'lime',\n",
    "            'x0': pheo2[xt]-1.079,\n",
    "            'y0': pheo2[yt]-1.079,\n",
    "            'x1': pheo2[xt]+1.079,\n",
    "            'y1': pheo2[yt]+1.079,\n",
    "            'type': 'circle',\n",
    "            'line': {\n",
    "                'color': 'lime',\n",
    "            },\n",
    "        }]\n",
    "}\n",
    "\n",
    "# Package the trace dictionary into a data object\n",
    "data = Data([trace3,trace4])\n",
    "\n",
    "fig = Figure(data=data, layout=layout)\n",
    "py.iplot(fig)"
   ]
  }
 ],
 "metadata": {
  "kernelspec": {
   "display_name": "Python 2",
   "language": "python",
   "name": "python2"
  },
  "language_info": {
   "codemirror_mode": {
    "name": "ipython",
    "version": 2
   },
   "file_extension": ".py",
   "mimetype": "text/x-python",
   "name": "python",
   "nbconvert_exporter": "python",
   "pygments_lexer": "ipython2",
   "version": "2.7.11"
  }
 },
 "nbformat": 4,
 "nbformat_minor": 0
}
